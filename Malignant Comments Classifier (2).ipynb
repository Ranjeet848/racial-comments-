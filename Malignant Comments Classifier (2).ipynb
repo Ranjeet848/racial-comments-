{
 "cells": [
  {
   "cell_type": "code",
   "execution_count": 2,
   "metadata": {},
   "outputs": [],
   "source": [
    "import pandas as pd\n",
    "import numpy as np\n",
    "import seaborn as sns\n",
    "import matplotlib.pyplot as plt\n",
    "from scipy.stats import zscore\n",
    "from sklearn.metrics import accuracy_score,confusion_matrix,classification_report,roc_auc_score,roc_curve\n",
    "from sklearn.linear_model import LinearRegression\n",
    "from sklearn.naive_bayes import GaussianNB\n",
    "from sklearn.neighbors import KNeighborsClassifier\n",
    "from sklearn.svm import SVC\n",
    "from sklearn.tree import DecisionTreeClassifier\n",
    "from sklearn.preprocessing import LabelEncoder,StandardScaler\n",
    "from sklearn.model_selection import cross_val_score,train_test_split\n",
    "from sklearn.ensemble import AdaBoostClassifier,GradientBoostingClassifier\n",
    "import warnings\n",
    "warnings.filterwarnings('ignore')"
   ]
  },
  {
   "cell_type": "code",
   "execution_count": 3,
   "metadata": {},
   "outputs": [],
   "source": [
    "train=pd.read_csv('Data.csv')"
   ]
  },
  {
   "cell_type": "code",
   "execution_count": 4,
   "metadata": {},
   "outputs": [
    {
     "data": {
      "text/html": [
       "<div>\n",
       "<style scoped>\n",
       "    .dataframe tbody tr th:only-of-type {\n",
       "        vertical-align: middle;\n",
       "    }\n",
       "\n",
       "    .dataframe tbody tr th {\n",
       "        vertical-align: top;\n",
       "    }\n",
       "\n",
       "    .dataframe thead th {\n",
       "        text-align: right;\n",
       "    }\n",
       "</style>\n",
       "<table border=\"1\" class=\"dataframe\">\n",
       "  <thead>\n",
       "    <tr style=\"text-align: right;\">\n",
       "      <th></th>\n",
       "      <th>id</th>\n",
       "      <th>comment_text</th>\n",
       "      <th>malignant</th>\n",
       "      <th>highly_malignant</th>\n",
       "      <th>rude</th>\n",
       "      <th>threat</th>\n",
       "      <th>abuse</th>\n",
       "      <th>loathe</th>\n",
       "    </tr>\n",
       "  </thead>\n",
       "  <tbody>\n",
       "    <tr>\n",
       "      <th>0</th>\n",
       "      <td>0000997932d777bf</td>\n",
       "      <td>Explanation\\r\\nWhy the edits made under my use...</td>\n",
       "      <td>0</td>\n",
       "      <td>0</td>\n",
       "      <td>0</td>\n",
       "      <td>0</td>\n",
       "      <td>0</td>\n",
       "      <td>0</td>\n",
       "    </tr>\n",
       "    <tr>\n",
       "      <th>1</th>\n",
       "      <td>000103f0d9cfb60f</td>\n",
       "      <td>D'aww! He matches this background colour I'm s...</td>\n",
       "      <td>0</td>\n",
       "      <td>0</td>\n",
       "      <td>0</td>\n",
       "      <td>0</td>\n",
       "      <td>0</td>\n",
       "      <td>0</td>\n",
       "    </tr>\n",
       "    <tr>\n",
       "      <th>2</th>\n",
       "      <td>000113f07ec002fd</td>\n",
       "      <td>Hey man, I'm really not trying to edit war. It...</td>\n",
       "      <td>0</td>\n",
       "      <td>0</td>\n",
       "      <td>0</td>\n",
       "      <td>0</td>\n",
       "      <td>0</td>\n",
       "      <td>0</td>\n",
       "    </tr>\n",
       "    <tr>\n",
       "      <th>3</th>\n",
       "      <td>0001b41b1c6bb37e</td>\n",
       "      <td>\"\\r\\nMore\\r\\nI can't make any real suggestions...</td>\n",
       "      <td>0</td>\n",
       "      <td>0</td>\n",
       "      <td>0</td>\n",
       "      <td>0</td>\n",
       "      <td>0</td>\n",
       "      <td>0</td>\n",
       "    </tr>\n",
       "    <tr>\n",
       "      <th>4</th>\n",
       "      <td>0001d958c54c6e35</td>\n",
       "      <td>You, sir, are my hero. Any chance you remember...</td>\n",
       "      <td>0</td>\n",
       "      <td>0</td>\n",
       "      <td>0</td>\n",
       "      <td>0</td>\n",
       "      <td>0</td>\n",
       "      <td>0</td>\n",
       "    </tr>\n",
       "  </tbody>\n",
       "</table>\n",
       "</div>"
      ],
      "text/plain": [
       "                 id                                       comment_text  \\\n",
       "0  0000997932d777bf  Explanation\\r\\nWhy the edits made under my use...   \n",
       "1  000103f0d9cfb60f  D'aww! He matches this background colour I'm s...   \n",
       "2  000113f07ec002fd  Hey man, I'm really not trying to edit war. It...   \n",
       "3  0001b41b1c6bb37e  \"\\r\\nMore\\r\\nI can't make any real suggestions...   \n",
       "4  0001d958c54c6e35  You, sir, are my hero. Any chance you remember...   \n",
       "\n",
       "   malignant  highly_malignant  rude  threat  abuse  loathe  \n",
       "0          0                 0     0       0      0       0  \n",
       "1          0                 0     0       0      0       0  \n",
       "2          0                 0     0       0      0       0  \n",
       "3          0                 0     0       0      0       0  \n",
       "4          0                 0     0       0      0       0  "
      ]
     },
     "execution_count": 4,
     "metadata": {},
     "output_type": "execute_result"
    }
   ],
   "source": [
    "train.head()"
   ]
  },
  {
   "cell_type": "code",
   "execution_count": 5,
   "metadata": {},
   "outputs": [
    {
     "data": {
      "text/html": [
       "<div>\n",
       "<style scoped>\n",
       "    .dataframe tbody tr th:only-of-type {\n",
       "        vertical-align: middle;\n",
       "    }\n",
       "\n",
       "    .dataframe tbody tr th {\n",
       "        vertical-align: top;\n",
       "    }\n",
       "\n",
       "    .dataframe thead th {\n",
       "        text-align: right;\n",
       "    }\n",
       "</style>\n",
       "<table border=\"1\" class=\"dataframe\">\n",
       "  <thead>\n",
       "    <tr style=\"text-align: right;\">\n",
       "      <th></th>\n",
       "      <th>id</th>\n",
       "      <th>comment_text</th>\n",
       "      <th>malignant</th>\n",
       "      <th>highly_malignant</th>\n",
       "      <th>rude</th>\n",
       "      <th>threat</th>\n",
       "      <th>abuse</th>\n",
       "      <th>loathe</th>\n",
       "    </tr>\n",
       "  </thead>\n",
       "  <tbody>\n",
       "    <tr>\n",
       "      <th>0</th>\n",
       "      <td>0000997932d777bf</td>\n",
       "      <td>Explanation\\r\\nWhy the edits made under my use...</td>\n",
       "      <td>0</td>\n",
       "      <td>0</td>\n",
       "      <td>0</td>\n",
       "      <td>0</td>\n",
       "      <td>0</td>\n",
       "      <td>0</td>\n",
       "    </tr>\n",
       "    <tr>\n",
       "      <th>1</th>\n",
       "      <td>000103f0d9cfb60f</td>\n",
       "      <td>D'aww! He matches this background colour I'm s...</td>\n",
       "      <td>0</td>\n",
       "      <td>0</td>\n",
       "      <td>0</td>\n",
       "      <td>0</td>\n",
       "      <td>0</td>\n",
       "      <td>0</td>\n",
       "    </tr>\n",
       "    <tr>\n",
       "      <th>2</th>\n",
       "      <td>000113f07ec002fd</td>\n",
       "      <td>Hey man, I'm really not trying to edit war. It...</td>\n",
       "      <td>0</td>\n",
       "      <td>0</td>\n",
       "      <td>0</td>\n",
       "      <td>0</td>\n",
       "      <td>0</td>\n",
       "      <td>0</td>\n",
       "    </tr>\n",
       "    <tr>\n",
       "      <th>3</th>\n",
       "      <td>0001b41b1c6bb37e</td>\n",
       "      <td>\"\\r\\nMore\\r\\nI can't make any real suggestions...</td>\n",
       "      <td>0</td>\n",
       "      <td>0</td>\n",
       "      <td>0</td>\n",
       "      <td>0</td>\n",
       "      <td>0</td>\n",
       "      <td>0</td>\n",
       "    </tr>\n",
       "    <tr>\n",
       "      <th>4</th>\n",
       "      <td>0001d958c54c6e35</td>\n",
       "      <td>You, sir, are my hero. Any chance you remember...</td>\n",
       "      <td>0</td>\n",
       "      <td>0</td>\n",
       "      <td>0</td>\n",
       "      <td>0</td>\n",
       "      <td>0</td>\n",
       "      <td>0</td>\n",
       "    </tr>\n",
       "    <tr>\n",
       "      <th>5</th>\n",
       "      <td>00025465d4725e87</td>\n",
       "      <td>\"\\r\\n\\r\\nCongratulations from me as well, use ...</td>\n",
       "      <td>0</td>\n",
       "      <td>0</td>\n",
       "      <td>0</td>\n",
       "      <td>0</td>\n",
       "      <td>0</td>\n",
       "      <td>0</td>\n",
       "    </tr>\n",
       "    <tr>\n",
       "      <th>6</th>\n",
       "      <td>0002bcb3da6cb337</td>\n",
       "      <td>COCKSUCKER BEFORE YOU PISS AROUND ON MY WORK</td>\n",
       "      <td>1</td>\n",
       "      <td>1</td>\n",
       "      <td>1</td>\n",
       "      <td>0</td>\n",
       "      <td>1</td>\n",
       "      <td>0</td>\n",
       "    </tr>\n",
       "    <tr>\n",
       "      <th>7</th>\n",
       "      <td>00031b1e95af7921</td>\n",
       "      <td>Your vandalism to the Matt Shirvington article...</td>\n",
       "      <td>0</td>\n",
       "      <td>0</td>\n",
       "      <td>0</td>\n",
       "      <td>0</td>\n",
       "      <td>0</td>\n",
       "      <td>0</td>\n",
       "    </tr>\n",
       "    <tr>\n",
       "      <th>8</th>\n",
       "      <td>00037261f536c51d</td>\n",
       "      <td>Sorry if the word 'nonsense' was offensive to ...</td>\n",
       "      <td>0</td>\n",
       "      <td>0</td>\n",
       "      <td>0</td>\n",
       "      <td>0</td>\n",
       "      <td>0</td>\n",
       "      <td>0</td>\n",
       "    </tr>\n",
       "    <tr>\n",
       "      <th>9</th>\n",
       "      <td>00040093b2687caa</td>\n",
       "      <td>alignment on this subject and which are contra...</td>\n",
       "      <td>0</td>\n",
       "      <td>0</td>\n",
       "      <td>0</td>\n",
       "      <td>0</td>\n",
       "      <td>0</td>\n",
       "      <td>0</td>\n",
       "    </tr>\n",
       "    <tr>\n",
       "      <th>10</th>\n",
       "      <td>0005300084f90edc</td>\n",
       "      <td>\"\\r\\nFair use rationale for Image:Wonju.jpg\\r\\...</td>\n",
       "      <td>0</td>\n",
       "      <td>0</td>\n",
       "      <td>0</td>\n",
       "      <td>0</td>\n",
       "      <td>0</td>\n",
       "      <td>0</td>\n",
       "    </tr>\n",
       "    <tr>\n",
       "      <th>11</th>\n",
       "      <td>00054a5e18b50dd4</td>\n",
       "      <td>bbq \\r\\n\\r\\nbe a man and lets discuss it-maybe...</td>\n",
       "      <td>0</td>\n",
       "      <td>0</td>\n",
       "      <td>0</td>\n",
       "      <td>0</td>\n",
       "      <td>0</td>\n",
       "      <td>0</td>\n",
       "    </tr>\n",
       "    <tr>\n",
       "      <th>12</th>\n",
       "      <td>0005c987bdfc9d4b</td>\n",
       "      <td>Hey... what is it..\\r\\n@ | talk .\\r\\nWhat is i...</td>\n",
       "      <td>1</td>\n",
       "      <td>0</td>\n",
       "      <td>0</td>\n",
       "      <td>0</td>\n",
       "      <td>0</td>\n",
       "      <td>0</td>\n",
       "    </tr>\n",
       "    <tr>\n",
       "      <th>13</th>\n",
       "      <td>0006f16e4e9f292e</td>\n",
       "      <td>Before you start throwing accusations and warn...</td>\n",
       "      <td>0</td>\n",
       "      <td>0</td>\n",
       "      <td>0</td>\n",
       "      <td>0</td>\n",
       "      <td>0</td>\n",
       "      <td>0</td>\n",
       "    </tr>\n",
       "    <tr>\n",
       "      <th>14</th>\n",
       "      <td>00070ef96486d6f9</td>\n",
       "      <td>Oh, and the girl above started her arguments w...</td>\n",
       "      <td>0</td>\n",
       "      <td>0</td>\n",
       "      <td>0</td>\n",
       "      <td>0</td>\n",
       "      <td>0</td>\n",
       "      <td>0</td>\n",
       "    </tr>\n",
       "    <tr>\n",
       "      <th>15</th>\n",
       "      <td>00078f8ce7eb276d</td>\n",
       "      <td>\"\\r\\n\\r\\nJuelz Santanas Age\\r\\n\\r\\nIn 2002, Ju...</td>\n",
       "      <td>0</td>\n",
       "      <td>0</td>\n",
       "      <td>0</td>\n",
       "      <td>0</td>\n",
       "      <td>0</td>\n",
       "      <td>0</td>\n",
       "    </tr>\n",
       "    <tr>\n",
       "      <th>16</th>\n",
       "      <td>0007e25b2121310b</td>\n",
       "      <td>Bye! \\r\\n\\r\\nDon't look, come or think of comm...</td>\n",
       "      <td>1</td>\n",
       "      <td>0</td>\n",
       "      <td>0</td>\n",
       "      <td>0</td>\n",
       "      <td>0</td>\n",
       "      <td>0</td>\n",
       "    </tr>\n",
       "    <tr>\n",
       "      <th>17</th>\n",
       "      <td>000897889268bc93</td>\n",
       "      <td>REDIRECT Talk:Voydan Pop Georgiev- Chernodrinski</td>\n",
       "      <td>0</td>\n",
       "      <td>0</td>\n",
       "      <td>0</td>\n",
       "      <td>0</td>\n",
       "      <td>0</td>\n",
       "      <td>0</td>\n",
       "    </tr>\n",
       "    <tr>\n",
       "      <th>18</th>\n",
       "      <td>0009801bd85e5806</td>\n",
       "      <td>The Mitsurugi point made no sense - why not ar...</td>\n",
       "      <td>0</td>\n",
       "      <td>0</td>\n",
       "      <td>0</td>\n",
       "      <td>0</td>\n",
       "      <td>0</td>\n",
       "      <td>0</td>\n",
       "    </tr>\n",
       "    <tr>\n",
       "      <th>19</th>\n",
       "      <td>0009eaea3325de8c</td>\n",
       "      <td>Don't mean to bother you \\r\\n\\r\\nI see that yo...</td>\n",
       "      <td>0</td>\n",
       "      <td>0</td>\n",
       "      <td>0</td>\n",
       "      <td>0</td>\n",
       "      <td>0</td>\n",
       "      <td>0</td>\n",
       "    </tr>\n",
       "    <tr>\n",
       "      <th>20</th>\n",
       "      <td>000b08c464718505</td>\n",
       "      <td>\"\\r\\n\\r\\n Regarding your recent edits \\r\\n\\r\\n...</td>\n",
       "      <td>0</td>\n",
       "      <td>0</td>\n",
       "      <td>0</td>\n",
       "      <td>0</td>\n",
       "      <td>0</td>\n",
       "      <td>0</td>\n",
       "    </tr>\n",
       "    <tr>\n",
       "      <th>21</th>\n",
       "      <td>000bfd0867774845</td>\n",
       "      <td>\"\\r\\nGood to know. About me, yeah, I'm studyin...</td>\n",
       "      <td>0</td>\n",
       "      <td>0</td>\n",
       "      <td>0</td>\n",
       "      <td>0</td>\n",
       "      <td>0</td>\n",
       "      <td>0</td>\n",
       "    </tr>\n",
       "    <tr>\n",
       "      <th>22</th>\n",
       "      <td>000c0dfd995809fa</td>\n",
       "      <td>\"\\r\\n\\r\\n Snowflakes are NOT always symmetrica...</td>\n",
       "      <td>0</td>\n",
       "      <td>0</td>\n",
       "      <td>0</td>\n",
       "      <td>0</td>\n",
       "      <td>0</td>\n",
       "      <td>0</td>\n",
       "    </tr>\n",
       "    <tr>\n",
       "      <th>23</th>\n",
       "      <td>000c6a3f0cd3ba8e</td>\n",
       "      <td>\"\\r\\n\\r\\n The Signpost: 24 September 2012 \\r\\n...</td>\n",
       "      <td>0</td>\n",
       "      <td>0</td>\n",
       "      <td>0</td>\n",
       "      <td>0</td>\n",
       "      <td>0</td>\n",
       "      <td>0</td>\n",
       "    </tr>\n",
       "    <tr>\n",
       "      <th>24</th>\n",
       "      <td>000cfee90f50d471</td>\n",
       "      <td>\"\\r\\n\\r\\nRe-considering 1st paragraph edit?\\r\\...</td>\n",
       "      <td>0</td>\n",
       "      <td>0</td>\n",
       "      <td>0</td>\n",
       "      <td>0</td>\n",
       "      <td>0</td>\n",
       "      <td>0</td>\n",
       "    </tr>\n",
       "    <tr>\n",
       "      <th>25</th>\n",
       "      <td>000eefc67a2c930f</td>\n",
       "      <td>Radial symmetry \\r\\n\\r\\nSeveral now extinct li...</td>\n",
       "      <td>0</td>\n",
       "      <td>0</td>\n",
       "      <td>0</td>\n",
       "      <td>0</td>\n",
       "      <td>0</td>\n",
       "      <td>0</td>\n",
       "    </tr>\n",
       "    <tr>\n",
       "      <th>26</th>\n",
       "      <td>000f35deef84dc4a</td>\n",
       "      <td>There's no need to apologize. A Wikipedia arti...</td>\n",
       "      <td>0</td>\n",
       "      <td>0</td>\n",
       "      <td>0</td>\n",
       "      <td>0</td>\n",
       "      <td>0</td>\n",
       "      <td>0</td>\n",
       "    </tr>\n",
       "    <tr>\n",
       "      <th>27</th>\n",
       "      <td>000ffab30195c5e1</td>\n",
       "      <td>Yes, because the mother of the child in the ca...</td>\n",
       "      <td>0</td>\n",
       "      <td>0</td>\n",
       "      <td>0</td>\n",
       "      <td>0</td>\n",
       "      <td>0</td>\n",
       "      <td>0</td>\n",
       "    </tr>\n",
       "    <tr>\n",
       "      <th>28</th>\n",
       "      <td>0010307a3a50a353</td>\n",
       "      <td>\"\\r\\nOk. But it will take a bit of work but I ...</td>\n",
       "      <td>0</td>\n",
       "      <td>0</td>\n",
       "      <td>0</td>\n",
       "      <td>0</td>\n",
       "      <td>0</td>\n",
       "      <td>0</td>\n",
       "    </tr>\n",
       "    <tr>\n",
       "      <th>29</th>\n",
       "      <td>0010833a96e1f886</td>\n",
       "      <td>\"== A barnstar for you! ==\\r\\n\\r\\n  The Real L...</td>\n",
       "      <td>0</td>\n",
       "      <td>0</td>\n",
       "      <td>0</td>\n",
       "      <td>0</td>\n",
       "      <td>0</td>\n",
       "      <td>0</td>\n",
       "    </tr>\n",
       "    <tr>\n",
       "      <th>...</th>\n",
       "      <td>...</td>\n",
       "      <td>...</td>\n",
       "      <td>...</td>\n",
       "      <td>...</td>\n",
       "      <td>...</td>\n",
       "      <td>...</td>\n",
       "      <td>...</td>\n",
       "      <td>...</td>\n",
       "    </tr>\n",
       "    <tr>\n",
       "      <th>159541</th>\n",
       "      <td>ffa33d3122b599d6</td>\n",
       "      <td>Your absurd edits \\r\\n\\r\\nYour absurd edits on...</td>\n",
       "      <td>1</td>\n",
       "      <td>0</td>\n",
       "      <td>1</td>\n",
       "      <td>0</td>\n",
       "      <td>1</td>\n",
       "      <td>0</td>\n",
       "    </tr>\n",
       "    <tr>\n",
       "      <th>159542</th>\n",
       "      <td>ffa95244f261527f</td>\n",
       "      <td>maybe he's got better things to do than spend ...</td>\n",
       "      <td>0</td>\n",
       "      <td>0</td>\n",
       "      <td>0</td>\n",
       "      <td>0</td>\n",
       "      <td>0</td>\n",
       "      <td>0</td>\n",
       "    </tr>\n",
       "    <tr>\n",
       "      <th>159543</th>\n",
       "      <td>ffad104337fe9891</td>\n",
       "      <td>scrap that, it does meet criteria and its gone...</td>\n",
       "      <td>0</td>\n",
       "      <td>0</td>\n",
       "      <td>0</td>\n",
       "      <td>0</td>\n",
       "      <td>0</td>\n",
       "      <td>0</td>\n",
       "    </tr>\n",
       "    <tr>\n",
       "      <th>159544</th>\n",
       "      <td>ffaed63c487a2b42</td>\n",
       "      <td>You could do worse.</td>\n",
       "      <td>0</td>\n",
       "      <td>0</td>\n",
       "      <td>0</td>\n",
       "      <td>0</td>\n",
       "      <td>0</td>\n",
       "      <td>0</td>\n",
       "    </tr>\n",
       "    <tr>\n",
       "      <th>159545</th>\n",
       "      <td>ffb268f37788a011</td>\n",
       "      <td>, 7 March 2011 (UTC)\\r\\nAre you also User:Bmat...</td>\n",
       "      <td>0</td>\n",
       "      <td>0</td>\n",
       "      <td>0</td>\n",
       "      <td>0</td>\n",
       "      <td>0</td>\n",
       "      <td>0</td>\n",
       "    </tr>\n",
       "    <tr>\n",
       "      <th>159546</th>\n",
       "      <td>ffb47123b2d82762</td>\n",
       "      <td>\"\\r\\n\\r\\nHey listen don't you ever!!!! Delete ...</td>\n",
       "      <td>1</td>\n",
       "      <td>0</td>\n",
       "      <td>0</td>\n",
       "      <td>0</td>\n",
       "      <td>1</td>\n",
       "      <td>0</td>\n",
       "    </tr>\n",
       "    <tr>\n",
       "      <th>159547</th>\n",
       "      <td>ffb7b4c3d3ae5842</td>\n",
       "      <td>Thank you very, very much.  Â·âœ†</td>\n",
       "      <td>0</td>\n",
       "      <td>0</td>\n",
       "      <td>0</td>\n",
       "      <td>0</td>\n",
       "      <td>0</td>\n",
       "      <td>0</td>\n",
       "    </tr>\n",
       "    <tr>\n",
       "      <th>159548</th>\n",
       "      <td>ffb93b0a0a1e78f9</td>\n",
       "      <td>Talkback: 15 September 2012</td>\n",
       "      <td>0</td>\n",
       "      <td>0</td>\n",
       "      <td>0</td>\n",
       "      <td>0</td>\n",
       "      <td>0</td>\n",
       "      <td>0</td>\n",
       "    </tr>\n",
       "    <tr>\n",
       "      <th>159549</th>\n",
       "      <td>ffb998f9749bd83e</td>\n",
       "      <td>2005 (UTC)\\r\\n 06:35, 31 Mar</td>\n",
       "      <td>0</td>\n",
       "      <td>0</td>\n",
       "      <td>0</td>\n",
       "      <td>0</td>\n",
       "      <td>0</td>\n",
       "      <td>0</td>\n",
       "    </tr>\n",
       "    <tr>\n",
       "      <th>159550</th>\n",
       "      <td>ffba5332d6b8fd14</td>\n",
       "      <td>i agree/ on another note lil wayne is a talent...</td>\n",
       "      <td>0</td>\n",
       "      <td>0</td>\n",
       "      <td>0</td>\n",
       "      <td>0</td>\n",
       "      <td>0</td>\n",
       "      <td>0</td>\n",
       "    </tr>\n",
       "    <tr>\n",
       "      <th>159551</th>\n",
       "      <td>ffbc2db4225258dd</td>\n",
       "      <td>While about half the references are from BYU-I...</td>\n",
       "      <td>0</td>\n",
       "      <td>0</td>\n",
       "      <td>0</td>\n",
       "      <td>0</td>\n",
       "      <td>0</td>\n",
       "      <td>0</td>\n",
       "    </tr>\n",
       "    <tr>\n",
       "      <th>159552</th>\n",
       "      <td>ffbcd64a71775e04</td>\n",
       "      <td>Prague Spring \\r\\n\\r\\nI think that Prague Spri...</td>\n",
       "      <td>0</td>\n",
       "      <td>0</td>\n",
       "      <td>0</td>\n",
       "      <td>0</td>\n",
       "      <td>0</td>\n",
       "      <td>0</td>\n",
       "    </tr>\n",
       "    <tr>\n",
       "      <th>159553</th>\n",
       "      <td>ffbd331a3aa269b9</td>\n",
       "      <td>I see this as having been merged; undoing one ...</td>\n",
       "      <td>0</td>\n",
       "      <td>0</td>\n",
       "      <td>0</td>\n",
       "      <td>0</td>\n",
       "      <td>0</td>\n",
       "      <td>0</td>\n",
       "    </tr>\n",
       "    <tr>\n",
       "      <th>159554</th>\n",
       "      <td>ffbdbb0483ed0841</td>\n",
       "      <td>and i'm going to keep posting the stuff u dele...</td>\n",
       "      <td>1</td>\n",
       "      <td>0</td>\n",
       "      <td>1</td>\n",
       "      <td>0</td>\n",
       "      <td>1</td>\n",
       "      <td>0</td>\n",
       "    </tr>\n",
       "    <tr>\n",
       "      <th>159555</th>\n",
       "      <td>ffc2f409658571f1</td>\n",
       "      <td>\"\\r\\n\\r\\nHow come when you download that MP3 i...</td>\n",
       "      <td>0</td>\n",
       "      <td>0</td>\n",
       "      <td>0</td>\n",
       "      <td>0</td>\n",
       "      <td>0</td>\n",
       "      <td>0</td>\n",
       "    </tr>\n",
       "    <tr>\n",
       "      <th>159556</th>\n",
       "      <td>ffc671f2acdd80e1</td>\n",
       "      <td>I'll be on IRC, too, if you have a more specif...</td>\n",
       "      <td>0</td>\n",
       "      <td>0</td>\n",
       "      <td>0</td>\n",
       "      <td>0</td>\n",
       "      <td>0</td>\n",
       "      <td>0</td>\n",
       "    </tr>\n",
       "    <tr>\n",
       "      <th>159557</th>\n",
       "      <td>ffc7bbb177c3c966</td>\n",
       "      <td>It is my opinion that that happens to be off-t...</td>\n",
       "      <td>0</td>\n",
       "      <td>0</td>\n",
       "      <td>0</td>\n",
       "      <td>0</td>\n",
       "      <td>0</td>\n",
       "      <td>0</td>\n",
       "    </tr>\n",
       "    <tr>\n",
       "      <th>159558</th>\n",
       "      <td>ffca1e81aefc48ac</td>\n",
       "      <td>Please stop removing content from Wikipedia; i...</td>\n",
       "      <td>0</td>\n",
       "      <td>0</td>\n",
       "      <td>0</td>\n",
       "      <td>0</td>\n",
       "      <td>0</td>\n",
       "      <td>0</td>\n",
       "    </tr>\n",
       "    <tr>\n",
       "      <th>159559</th>\n",
       "      <td>ffca8d71d71a3fae</td>\n",
       "      <td>Image:Barack-obama-mother.jpg listed for delet...</td>\n",
       "      <td>0</td>\n",
       "      <td>0</td>\n",
       "      <td>0</td>\n",
       "      <td>0</td>\n",
       "      <td>0</td>\n",
       "      <td>0</td>\n",
       "    </tr>\n",
       "    <tr>\n",
       "      <th>159560</th>\n",
       "      <td>ffcdcb71854f6d8a</td>\n",
       "      <td>\"Editing of article without Consensus &amp; Remova...</td>\n",
       "      <td>0</td>\n",
       "      <td>0</td>\n",
       "      <td>0</td>\n",
       "      <td>0</td>\n",
       "      <td>0</td>\n",
       "      <td>0</td>\n",
       "    </tr>\n",
       "    <tr>\n",
       "      <th>159561</th>\n",
       "      <td>ffd2e85b07b3c7e4</td>\n",
       "      <td>\"\\r\\nNo he did not, read it again (I would hav...</td>\n",
       "      <td>0</td>\n",
       "      <td>0</td>\n",
       "      <td>0</td>\n",
       "      <td>0</td>\n",
       "      <td>0</td>\n",
       "      <td>0</td>\n",
       "    </tr>\n",
       "    <tr>\n",
       "      <th>159562</th>\n",
       "      <td>ffd72e9766c09c97</td>\n",
       "      <td>\"\\r\\n Auto guides and the motoring press are n...</td>\n",
       "      <td>0</td>\n",
       "      <td>0</td>\n",
       "      <td>0</td>\n",
       "      <td>0</td>\n",
       "      <td>0</td>\n",
       "      <td>0</td>\n",
       "    </tr>\n",
       "    <tr>\n",
       "      <th>159563</th>\n",
       "      <td>ffe029a7c79dc7fe</td>\n",
       "      <td>\"\\r\\nplease identify what part of BLP applies ...</td>\n",
       "      <td>0</td>\n",
       "      <td>0</td>\n",
       "      <td>0</td>\n",
       "      <td>0</td>\n",
       "      <td>0</td>\n",
       "      <td>0</td>\n",
       "    </tr>\n",
       "    <tr>\n",
       "      <th>159564</th>\n",
       "      <td>ffe897e7f7182c90</td>\n",
       "      <td>Catalan independentism is the social movement ...</td>\n",
       "      <td>0</td>\n",
       "      <td>0</td>\n",
       "      <td>0</td>\n",
       "      <td>0</td>\n",
       "      <td>0</td>\n",
       "      <td>0</td>\n",
       "    </tr>\n",
       "    <tr>\n",
       "      <th>159565</th>\n",
       "      <td>ffe8b9316245be30</td>\n",
       "      <td>The numbers in parentheses are the additional ...</td>\n",
       "      <td>0</td>\n",
       "      <td>0</td>\n",
       "      <td>0</td>\n",
       "      <td>0</td>\n",
       "      <td>0</td>\n",
       "      <td>0</td>\n",
       "    </tr>\n",
       "    <tr>\n",
       "      <th>159566</th>\n",
       "      <td>ffe987279560d7ff</td>\n",
       "      <td>\":::::And for the second time of asking, when ...</td>\n",
       "      <td>0</td>\n",
       "      <td>0</td>\n",
       "      <td>0</td>\n",
       "      <td>0</td>\n",
       "      <td>0</td>\n",
       "      <td>0</td>\n",
       "    </tr>\n",
       "    <tr>\n",
       "      <th>159567</th>\n",
       "      <td>ffea4adeee384e90</td>\n",
       "      <td>You should be ashamed of yourself \\r\\n\\r\\nThat...</td>\n",
       "      <td>0</td>\n",
       "      <td>0</td>\n",
       "      <td>0</td>\n",
       "      <td>0</td>\n",
       "      <td>0</td>\n",
       "      <td>0</td>\n",
       "    </tr>\n",
       "    <tr>\n",
       "      <th>159568</th>\n",
       "      <td>ffee36eab5c267c9</td>\n",
       "      <td>Spitzer \\r\\n\\r\\nUmm, theres no actual article ...</td>\n",
       "      <td>0</td>\n",
       "      <td>0</td>\n",
       "      <td>0</td>\n",
       "      <td>0</td>\n",
       "      <td>0</td>\n",
       "      <td>0</td>\n",
       "    </tr>\n",
       "    <tr>\n",
       "      <th>159569</th>\n",
       "      <td>fff125370e4aaaf3</td>\n",
       "      <td>And it looks like it was actually you who put ...</td>\n",
       "      <td>0</td>\n",
       "      <td>0</td>\n",
       "      <td>0</td>\n",
       "      <td>0</td>\n",
       "      <td>0</td>\n",
       "      <td>0</td>\n",
       "    </tr>\n",
       "    <tr>\n",
       "      <th>159570</th>\n",
       "      <td>fff46fc426af1f9a</td>\n",
       "      <td>\"\\r\\nAnd ... I really don't think you understa...</td>\n",
       "      <td>0</td>\n",
       "      <td>0</td>\n",
       "      <td>0</td>\n",
       "      <td>0</td>\n",
       "      <td>0</td>\n",
       "      <td>0</td>\n",
       "    </tr>\n",
       "  </tbody>\n",
       "</table>\n",
       "<p>159571 rows × 8 columns</p>\n",
       "</div>"
      ],
      "text/plain": [
       "                      id                                       comment_text  \\\n",
       "0       0000997932d777bf  Explanation\\r\\nWhy the edits made under my use...   \n",
       "1       000103f0d9cfb60f  D'aww! He matches this background colour I'm s...   \n",
       "2       000113f07ec002fd  Hey man, I'm really not trying to edit war. It...   \n",
       "3       0001b41b1c6bb37e  \"\\r\\nMore\\r\\nI can't make any real suggestions...   \n",
       "4       0001d958c54c6e35  You, sir, are my hero. Any chance you remember...   \n",
       "5       00025465d4725e87  \"\\r\\n\\r\\nCongratulations from me as well, use ...   \n",
       "6       0002bcb3da6cb337       COCKSUCKER BEFORE YOU PISS AROUND ON MY WORK   \n",
       "7       00031b1e95af7921  Your vandalism to the Matt Shirvington article...   \n",
       "8       00037261f536c51d  Sorry if the word 'nonsense' was offensive to ...   \n",
       "9       00040093b2687caa  alignment on this subject and which are contra...   \n",
       "10      0005300084f90edc  \"\\r\\nFair use rationale for Image:Wonju.jpg\\r\\...   \n",
       "11      00054a5e18b50dd4  bbq \\r\\n\\r\\nbe a man and lets discuss it-maybe...   \n",
       "12      0005c987bdfc9d4b  Hey... what is it..\\r\\n@ | talk .\\r\\nWhat is i...   \n",
       "13      0006f16e4e9f292e  Before you start throwing accusations and warn...   \n",
       "14      00070ef96486d6f9  Oh, and the girl above started her arguments w...   \n",
       "15      00078f8ce7eb276d  \"\\r\\n\\r\\nJuelz Santanas Age\\r\\n\\r\\nIn 2002, Ju...   \n",
       "16      0007e25b2121310b  Bye! \\r\\n\\r\\nDon't look, come or think of comm...   \n",
       "17      000897889268bc93   REDIRECT Talk:Voydan Pop Georgiev- Chernodrinski   \n",
       "18      0009801bd85e5806  The Mitsurugi point made no sense - why not ar...   \n",
       "19      0009eaea3325de8c  Don't mean to bother you \\r\\n\\r\\nI see that yo...   \n",
       "20      000b08c464718505  \"\\r\\n\\r\\n Regarding your recent edits \\r\\n\\r\\n...   \n",
       "21      000bfd0867774845  \"\\r\\nGood to know. About me, yeah, I'm studyin...   \n",
       "22      000c0dfd995809fa  \"\\r\\n\\r\\n Snowflakes are NOT always symmetrica...   \n",
       "23      000c6a3f0cd3ba8e  \"\\r\\n\\r\\n The Signpost: 24 September 2012 \\r\\n...   \n",
       "24      000cfee90f50d471  \"\\r\\n\\r\\nRe-considering 1st paragraph edit?\\r\\...   \n",
       "25      000eefc67a2c930f  Radial symmetry \\r\\n\\r\\nSeveral now extinct li...   \n",
       "26      000f35deef84dc4a  There's no need to apologize. A Wikipedia arti...   \n",
       "27      000ffab30195c5e1  Yes, because the mother of the child in the ca...   \n",
       "28      0010307a3a50a353  \"\\r\\nOk. But it will take a bit of work but I ...   \n",
       "29      0010833a96e1f886  \"== A barnstar for you! ==\\r\\n\\r\\n  The Real L...   \n",
       "...                  ...                                                ...   \n",
       "159541  ffa33d3122b599d6  Your absurd edits \\r\\n\\r\\nYour absurd edits on...   \n",
       "159542  ffa95244f261527f  maybe he's got better things to do than spend ...   \n",
       "159543  ffad104337fe9891  scrap that, it does meet criteria and its gone...   \n",
       "159544  ffaed63c487a2b42                                You could do worse.   \n",
       "159545  ffb268f37788a011  , 7 March 2011 (UTC)\\r\\nAre you also User:Bmat...   \n",
       "159546  ffb47123b2d82762  \"\\r\\n\\r\\nHey listen don't you ever!!!! Delete ...   \n",
       "159547  ffb7b4c3d3ae5842                  Thank you very, very much.  Â·âœ†   \n",
       "159548  ffb93b0a0a1e78f9                        Talkback: 15 September 2012   \n",
       "159549  ffb998f9749bd83e                       2005 (UTC)\\r\\n 06:35, 31 Mar   \n",
       "159550  ffba5332d6b8fd14  i agree/ on another note lil wayne is a talent...   \n",
       "159551  ffbc2db4225258dd  While about half the references are from BYU-I...   \n",
       "159552  ffbcd64a71775e04  Prague Spring \\r\\n\\r\\nI think that Prague Spri...   \n",
       "159553  ffbd331a3aa269b9  I see this as having been merged; undoing one ...   \n",
       "159554  ffbdbb0483ed0841  and i'm going to keep posting the stuff u dele...   \n",
       "159555  ffc2f409658571f1  \"\\r\\n\\r\\nHow come when you download that MP3 i...   \n",
       "159556  ffc671f2acdd80e1  I'll be on IRC, too, if you have a more specif...   \n",
       "159557  ffc7bbb177c3c966  It is my opinion that that happens to be off-t...   \n",
       "159558  ffca1e81aefc48ac  Please stop removing content from Wikipedia; i...   \n",
       "159559  ffca8d71d71a3fae  Image:Barack-obama-mother.jpg listed for delet...   \n",
       "159560  ffcdcb71854f6d8a  \"Editing of article without Consensus & Remova...   \n",
       "159561  ffd2e85b07b3c7e4  \"\\r\\nNo he did not, read it again (I would hav...   \n",
       "159562  ffd72e9766c09c97  \"\\r\\n Auto guides and the motoring press are n...   \n",
       "159563  ffe029a7c79dc7fe  \"\\r\\nplease identify what part of BLP applies ...   \n",
       "159564  ffe897e7f7182c90  Catalan independentism is the social movement ...   \n",
       "159565  ffe8b9316245be30  The numbers in parentheses are the additional ...   \n",
       "159566  ffe987279560d7ff  \":::::And for the second time of asking, when ...   \n",
       "159567  ffea4adeee384e90  You should be ashamed of yourself \\r\\n\\r\\nThat...   \n",
       "159568  ffee36eab5c267c9  Spitzer \\r\\n\\r\\nUmm, theres no actual article ...   \n",
       "159569  fff125370e4aaaf3  And it looks like it was actually you who put ...   \n",
       "159570  fff46fc426af1f9a  \"\\r\\nAnd ... I really don't think you understa...   \n",
       "\n",
       "        malignant  highly_malignant  rude  threat  abuse  loathe  \n",
       "0               0                 0     0       0      0       0  \n",
       "1               0                 0     0       0      0       0  \n",
       "2               0                 0     0       0      0       0  \n",
       "3               0                 0     0       0      0       0  \n",
       "4               0                 0     0       0      0       0  \n",
       "5               0                 0     0       0      0       0  \n",
       "6               1                 1     1       0      1       0  \n",
       "7               0                 0     0       0      0       0  \n",
       "8               0                 0     0       0      0       0  \n",
       "9               0                 0     0       0      0       0  \n",
       "10              0                 0     0       0      0       0  \n",
       "11              0                 0     0       0      0       0  \n",
       "12              1                 0     0       0      0       0  \n",
       "13              0                 0     0       0      0       0  \n",
       "14              0                 0     0       0      0       0  \n",
       "15              0                 0     0       0      0       0  \n",
       "16              1                 0     0       0      0       0  \n",
       "17              0                 0     0       0      0       0  \n",
       "18              0                 0     0       0      0       0  \n",
       "19              0                 0     0       0      0       0  \n",
       "20              0                 0     0       0      0       0  \n",
       "21              0                 0     0       0      0       0  \n",
       "22              0                 0     0       0      0       0  \n",
       "23              0                 0     0       0      0       0  \n",
       "24              0                 0     0       0      0       0  \n",
       "25              0                 0     0       0      0       0  \n",
       "26              0                 0     0       0      0       0  \n",
       "27              0                 0     0       0      0       0  \n",
       "28              0                 0     0       0      0       0  \n",
       "29              0                 0     0       0      0       0  \n",
       "...           ...               ...   ...     ...    ...     ...  \n",
       "159541          1                 0     1       0      1       0  \n",
       "159542          0                 0     0       0      0       0  \n",
       "159543          0                 0     0       0      0       0  \n",
       "159544          0                 0     0       0      0       0  \n",
       "159545          0                 0     0       0      0       0  \n",
       "159546          1                 0     0       0      1       0  \n",
       "159547          0                 0     0       0      0       0  \n",
       "159548          0                 0     0       0      0       0  \n",
       "159549          0                 0     0       0      0       0  \n",
       "159550          0                 0     0       0      0       0  \n",
       "159551          0                 0     0       0      0       0  \n",
       "159552          0                 0     0       0      0       0  \n",
       "159553          0                 0     0       0      0       0  \n",
       "159554          1                 0     1       0      1       0  \n",
       "159555          0                 0     0       0      0       0  \n",
       "159556          0                 0     0       0      0       0  \n",
       "159557          0                 0     0       0      0       0  \n",
       "159558          0                 0     0       0      0       0  \n",
       "159559          0                 0     0       0      0       0  \n",
       "159560          0                 0     0       0      0       0  \n",
       "159561          0                 0     0       0      0       0  \n",
       "159562          0                 0     0       0      0       0  \n",
       "159563          0                 0     0       0      0       0  \n",
       "159564          0                 0     0       0      0       0  \n",
       "159565          0                 0     0       0      0       0  \n",
       "159566          0                 0     0       0      0       0  \n",
       "159567          0                 0     0       0      0       0  \n",
       "159568          0                 0     0       0      0       0  \n",
       "159569          0                 0     0       0      0       0  \n",
       "159570          0                 0     0       0      0       0  \n",
       "\n",
       "[159571 rows x 8 columns]"
      ]
     },
     "execution_count": 5,
     "metadata": {},
     "output_type": "execute_result"
    }
   ],
   "source": [
    "train"
   ]
  },
  {
   "cell_type": "code",
   "execution_count": 6,
   "metadata": {},
   "outputs": [],
   "source": [
    "#Lets upload the test data\n",
    "test=pd.read_csv('Data_Test.csv')"
   ]
  },
  {
   "cell_type": "code",
   "execution_count": 7,
   "metadata": {},
   "outputs": [
    {
     "data": {
      "text/html": [
       "<div>\n",
       "<style scoped>\n",
       "    .dataframe tbody tr th:only-of-type {\n",
       "        vertical-align: middle;\n",
       "    }\n",
       "\n",
       "    .dataframe tbody tr th {\n",
       "        vertical-align: top;\n",
       "    }\n",
       "\n",
       "    .dataframe thead th {\n",
       "        text-align: right;\n",
       "    }\n",
       "</style>\n",
       "<table border=\"1\" class=\"dataframe\">\n",
       "  <thead>\n",
       "    <tr style=\"text-align: right;\">\n",
       "      <th></th>\n",
       "      <th>id</th>\n",
       "      <th>comment_text</th>\n",
       "    </tr>\n",
       "  </thead>\n",
       "  <tbody>\n",
       "    <tr>\n",
       "      <th>0</th>\n",
       "      <td>00001cee341fdb12</td>\n",
       "      <td>Yo bitch Ja Rule is more succesful then you'll...</td>\n",
       "    </tr>\n",
       "    <tr>\n",
       "      <th>1</th>\n",
       "      <td>0000247867823ef7</td>\n",
       "      <td>== From RfC == \\r\\n\\r\\n The title is fine as i...</td>\n",
       "    </tr>\n",
       "    <tr>\n",
       "      <th>2</th>\n",
       "      <td>00013b17ad220c46</td>\n",
       "      <td>\" \\r\\n\\r\\n == Sources == \\r\\n\\r\\n * Zawe Ashto...</td>\n",
       "    </tr>\n",
       "    <tr>\n",
       "      <th>3</th>\n",
       "      <td>00017563c3f7919a</td>\n",
       "      <td>:If you have a look back at the source, the in...</td>\n",
       "    </tr>\n",
       "    <tr>\n",
       "      <th>4</th>\n",
       "      <td>00017695ad8997eb</td>\n",
       "      <td>I don't anonymously edit articles at all.</td>\n",
       "    </tr>\n",
       "  </tbody>\n",
       "</table>\n",
       "</div>"
      ],
      "text/plain": [
       "                 id                                       comment_text\n",
       "0  00001cee341fdb12  Yo bitch Ja Rule is more succesful then you'll...\n",
       "1  0000247867823ef7  == From RfC == \\r\\n\\r\\n The title is fine as i...\n",
       "2  00013b17ad220c46  \" \\r\\n\\r\\n == Sources == \\r\\n\\r\\n * Zawe Ashto...\n",
       "3  00017563c3f7919a  :If you have a look back at the source, the in...\n",
       "4  00017695ad8997eb          I don't anonymously edit articles at all."
      ]
     },
     "execution_count": 7,
     "metadata": {},
     "output_type": "execute_result"
    }
   ],
   "source": [
    "test.head()"
   ]
  },
  {
   "cell_type": "code",
   "execution_count": 8,
   "metadata": {},
   "outputs": [
    {
     "data": {
      "text/plain": [
       "(159571, 8)"
      ]
     },
     "execution_count": 8,
     "metadata": {},
     "output_type": "execute_result"
    }
   ],
   "source": [
    "#lets check the shape of train and test data\n",
    "train.shape"
   ]
  },
  {
   "cell_type": "code",
   "execution_count": 9,
   "metadata": {},
   "outputs": [
    {
     "data": {
      "text/plain": [
       "(153164, 2)"
      ]
     },
     "execution_count": 9,
     "metadata": {},
     "output_type": "execute_result"
    }
   ],
   "source": [
    "test.shape"
   ]
  },
  {
   "cell_type": "code",
   "execution_count": 10,
   "metadata": {},
   "outputs": [
    {
     "name": "stdout",
     "output_type": "stream",
     "text": [
      "<class 'pandas.core.frame.DataFrame'>\n",
      "RangeIndex: 159571 entries, 0 to 159570\n",
      "Data columns (total 8 columns):\n",
      "id                  159571 non-null object\n",
      "comment_text        159571 non-null object\n",
      "malignant           159571 non-null int64\n",
      "highly_malignant    159571 non-null int64\n",
      "rude                159571 non-null int64\n",
      "threat              159571 non-null int64\n",
      "abuse               159571 non-null int64\n",
      "loathe              159571 non-null int64\n",
      "dtypes: int64(6), object(2)\n",
      "memory usage: 9.7+ MB\n"
     ]
    }
   ],
   "source": [
    "#Information of train and test data\n",
    "train.info()"
   ]
  },
  {
   "cell_type": "code",
   "execution_count": 11,
   "metadata": {},
   "outputs": [
    {
     "name": "stdout",
     "output_type": "stream",
     "text": [
      "<class 'pandas.core.frame.DataFrame'>\n",
      "RangeIndex: 153164 entries, 0 to 153163\n",
      "Data columns (total 2 columns):\n",
      "id              153164 non-null object\n",
      "comment_text    153164 non-null object\n",
      "dtypes: object(2)\n",
      "memory usage: 2.3+ MB\n"
     ]
    }
   ],
   "source": [
    "test.info()"
   ]
  },
  {
   "cell_type": "code",
   "execution_count": 12,
   "metadata": {},
   "outputs": [
    {
     "data": {
      "text/plain": [
       "<bound method NDFrame.describe of                       id                                       comment_text  \\\n",
       "0       0000997932d777bf  Explanation\\r\\nWhy the edits made under my use...   \n",
       "1       000103f0d9cfb60f  D'aww! He matches this background colour I'm s...   \n",
       "2       000113f07ec002fd  Hey man, I'm really not trying to edit war. It...   \n",
       "3       0001b41b1c6bb37e  \"\\r\\nMore\\r\\nI can't make any real suggestions...   \n",
       "4       0001d958c54c6e35  You, sir, are my hero. Any chance you remember...   \n",
       "5       00025465d4725e87  \"\\r\\n\\r\\nCongratulations from me as well, use ...   \n",
       "6       0002bcb3da6cb337       COCKSUCKER BEFORE YOU PISS AROUND ON MY WORK   \n",
       "7       00031b1e95af7921  Your vandalism to the Matt Shirvington article...   \n",
       "8       00037261f536c51d  Sorry if the word 'nonsense' was offensive to ...   \n",
       "9       00040093b2687caa  alignment on this subject and which are contra...   \n",
       "10      0005300084f90edc  \"\\r\\nFair use rationale for Image:Wonju.jpg\\r\\...   \n",
       "11      00054a5e18b50dd4  bbq \\r\\n\\r\\nbe a man and lets discuss it-maybe...   \n",
       "12      0005c987bdfc9d4b  Hey... what is it..\\r\\n@ | talk .\\r\\nWhat is i...   \n",
       "13      0006f16e4e9f292e  Before you start throwing accusations and warn...   \n",
       "14      00070ef96486d6f9  Oh, and the girl above started her arguments w...   \n",
       "15      00078f8ce7eb276d  \"\\r\\n\\r\\nJuelz Santanas Age\\r\\n\\r\\nIn 2002, Ju...   \n",
       "16      0007e25b2121310b  Bye! \\r\\n\\r\\nDon't look, come or think of comm...   \n",
       "17      000897889268bc93   REDIRECT Talk:Voydan Pop Georgiev- Chernodrinski   \n",
       "18      0009801bd85e5806  The Mitsurugi point made no sense - why not ar...   \n",
       "19      0009eaea3325de8c  Don't mean to bother you \\r\\n\\r\\nI see that yo...   \n",
       "20      000b08c464718505  \"\\r\\n\\r\\n Regarding your recent edits \\r\\n\\r\\n...   \n",
       "21      000bfd0867774845  \"\\r\\nGood to know. About me, yeah, I'm studyin...   \n",
       "22      000c0dfd995809fa  \"\\r\\n\\r\\n Snowflakes are NOT always symmetrica...   \n",
       "23      000c6a3f0cd3ba8e  \"\\r\\n\\r\\n The Signpost: 24 September 2012 \\r\\n...   \n",
       "24      000cfee90f50d471  \"\\r\\n\\r\\nRe-considering 1st paragraph edit?\\r\\...   \n",
       "25      000eefc67a2c930f  Radial symmetry \\r\\n\\r\\nSeveral now extinct li...   \n",
       "26      000f35deef84dc4a  There's no need to apologize. A Wikipedia arti...   \n",
       "27      000ffab30195c5e1  Yes, because the mother of the child in the ca...   \n",
       "28      0010307a3a50a353  \"\\r\\nOk. But it will take a bit of work but I ...   \n",
       "29      0010833a96e1f886  \"== A barnstar for you! ==\\r\\n\\r\\n  The Real L...   \n",
       "...                  ...                                                ...   \n",
       "159541  ffa33d3122b599d6  Your absurd edits \\r\\n\\r\\nYour absurd edits on...   \n",
       "159542  ffa95244f261527f  maybe he's got better things to do than spend ...   \n",
       "159543  ffad104337fe9891  scrap that, it does meet criteria and its gone...   \n",
       "159544  ffaed63c487a2b42                                You could do worse.   \n",
       "159545  ffb268f37788a011  , 7 March 2011 (UTC)\\r\\nAre you also User:Bmat...   \n",
       "159546  ffb47123b2d82762  \"\\r\\n\\r\\nHey listen don't you ever!!!! Delete ...   \n",
       "159547  ffb7b4c3d3ae5842                  Thank you very, very much.  Â·âœ†   \n",
       "159548  ffb93b0a0a1e78f9                        Talkback: 15 September 2012   \n",
       "159549  ffb998f9749bd83e                       2005 (UTC)\\r\\n 06:35, 31 Mar   \n",
       "159550  ffba5332d6b8fd14  i agree/ on another note lil wayne is a talent...   \n",
       "159551  ffbc2db4225258dd  While about half the references are from BYU-I...   \n",
       "159552  ffbcd64a71775e04  Prague Spring \\r\\n\\r\\nI think that Prague Spri...   \n",
       "159553  ffbd331a3aa269b9  I see this as having been merged; undoing one ...   \n",
       "159554  ffbdbb0483ed0841  and i'm going to keep posting the stuff u dele...   \n",
       "159555  ffc2f409658571f1  \"\\r\\n\\r\\nHow come when you download that MP3 i...   \n",
       "159556  ffc671f2acdd80e1  I'll be on IRC, too, if you have a more specif...   \n",
       "159557  ffc7bbb177c3c966  It is my opinion that that happens to be off-t...   \n",
       "159558  ffca1e81aefc48ac  Please stop removing content from Wikipedia; i...   \n",
       "159559  ffca8d71d71a3fae  Image:Barack-obama-mother.jpg listed for delet...   \n",
       "159560  ffcdcb71854f6d8a  \"Editing of article without Consensus & Remova...   \n",
       "159561  ffd2e85b07b3c7e4  \"\\r\\nNo he did not, read it again (I would hav...   \n",
       "159562  ffd72e9766c09c97  \"\\r\\n Auto guides and the motoring press are n...   \n",
       "159563  ffe029a7c79dc7fe  \"\\r\\nplease identify what part of BLP applies ...   \n",
       "159564  ffe897e7f7182c90  Catalan independentism is the social movement ...   \n",
       "159565  ffe8b9316245be30  The numbers in parentheses are the additional ...   \n",
       "159566  ffe987279560d7ff  \":::::And for the second time of asking, when ...   \n",
       "159567  ffea4adeee384e90  You should be ashamed of yourself \\r\\n\\r\\nThat...   \n",
       "159568  ffee36eab5c267c9  Spitzer \\r\\n\\r\\nUmm, theres no actual article ...   \n",
       "159569  fff125370e4aaaf3  And it looks like it was actually you who put ...   \n",
       "159570  fff46fc426af1f9a  \"\\r\\nAnd ... I really don't think you understa...   \n",
       "\n",
       "        malignant  highly_malignant  rude  threat  abuse  loathe  \n",
       "0               0                 0     0       0      0       0  \n",
       "1               0                 0     0       0      0       0  \n",
       "2               0                 0     0       0      0       0  \n",
       "3               0                 0     0       0      0       0  \n",
       "4               0                 0     0       0      0       0  \n",
       "5               0                 0     0       0      0       0  \n",
       "6               1                 1     1       0      1       0  \n",
       "7               0                 0     0       0      0       0  \n",
       "8               0                 0     0       0      0       0  \n",
       "9               0                 0     0       0      0       0  \n",
       "10              0                 0     0       0      0       0  \n",
       "11              0                 0     0       0      0       0  \n",
       "12              1                 0     0       0      0       0  \n",
       "13              0                 0     0       0      0       0  \n",
       "14              0                 0     0       0      0       0  \n",
       "15              0                 0     0       0      0       0  \n",
       "16              1                 0     0       0      0       0  \n",
       "17              0                 0     0       0      0       0  \n",
       "18              0                 0     0       0      0       0  \n",
       "19              0                 0     0       0      0       0  \n",
       "20              0                 0     0       0      0       0  \n",
       "21              0                 0     0       0      0       0  \n",
       "22              0                 0     0       0      0       0  \n",
       "23              0                 0     0       0      0       0  \n",
       "24              0                 0     0       0      0       0  \n",
       "25              0                 0     0       0      0       0  \n",
       "26              0                 0     0       0      0       0  \n",
       "27              0                 0     0       0      0       0  \n",
       "28              0                 0     0       0      0       0  \n",
       "29              0                 0     0       0      0       0  \n",
       "...           ...               ...   ...     ...    ...     ...  \n",
       "159541          1                 0     1       0      1       0  \n",
       "159542          0                 0     0       0      0       0  \n",
       "159543          0                 0     0       0      0       0  \n",
       "159544          0                 0     0       0      0       0  \n",
       "159545          0                 0     0       0      0       0  \n",
       "159546          1                 0     0       0      1       0  \n",
       "159547          0                 0     0       0      0       0  \n",
       "159548          0                 0     0       0      0       0  \n",
       "159549          0                 0     0       0      0       0  \n",
       "159550          0                 0     0       0      0       0  \n",
       "159551          0                 0     0       0      0       0  \n",
       "159552          0                 0     0       0      0       0  \n",
       "159553          0                 0     0       0      0       0  \n",
       "159554          1                 0     1       0      1       0  \n",
       "159555          0                 0     0       0      0       0  \n",
       "159556          0                 0     0       0      0       0  \n",
       "159557          0                 0     0       0      0       0  \n",
       "159558          0                 0     0       0      0       0  \n",
       "159559          0                 0     0       0      0       0  \n",
       "159560          0                 0     0       0      0       0  \n",
       "159561          0                 0     0       0      0       0  \n",
       "159562          0                 0     0       0      0       0  \n",
       "159563          0                 0     0       0      0       0  \n",
       "159564          0                 0     0       0      0       0  \n",
       "159565          0                 0     0       0      0       0  \n",
       "159566          0                 0     0       0      0       0  \n",
       "159567          0                 0     0       0      0       0  \n",
       "159568          0                 0     0       0      0       0  \n",
       "159569          0                 0     0       0      0       0  \n",
       "159570          0                 0     0       0      0       0  \n",
       "\n",
       "[159571 rows x 8 columns]>"
      ]
     },
     "execution_count": 12,
     "metadata": {},
     "output_type": "execute_result"
    }
   ],
   "source": [
    "#lets describe the data of train and test set\n",
    "train.describe"
   ]
  },
  {
   "cell_type": "code",
   "execution_count": 13,
   "metadata": {},
   "outputs": [
    {
     "data": {
      "text/plain": [
       "<bound method NDFrame.describe of                       id                                       comment_text\n",
       "0       00001cee341fdb12  Yo bitch Ja Rule is more succesful then you'll...\n",
       "1       0000247867823ef7  == From RfC == \\r\\n\\r\\n The title is fine as i...\n",
       "2       00013b17ad220c46  \" \\r\\n\\r\\n == Sources == \\r\\n\\r\\n * Zawe Ashto...\n",
       "3       00017563c3f7919a  :If you have a look back at the source, the in...\n",
       "4       00017695ad8997eb          I don't anonymously edit articles at all.\n",
       "5       0001ea8717f6de06  Thank you for understanding. I think very high...\n",
       "6       00024115d4cbde0f  Please do not add nonsense to Wikipedia. Such ...\n",
       "7       000247e83dcc1211                   :Dear god this site is horrible.\n",
       "8       00025358d4737918  \" \\r\\n Only a fool can believe in such numbers...\n",
       "9       00026d1092fe71cc  == Double Redirects == \\r\\n\\r\\n When fixing do...\n",
       "10      0002eadc3b301559  I think its crap that the link to roggenbier i...\n",
       "11      0002f87b16116a7f  \"::: Somebody will invariably try to add Relig...\n",
       "12      0003806b11932181  , 25 February 2010 (UTC) \\r\\n\\r\\n :::Looking i...\n",
       "13      0003e1cccfd5a40a  \" \\r\\n\\r\\n It says it right there that it IS a...\n",
       "14      00059ace3e3e9a53  \" \\r\\n\\r\\n == Before adding a new product to t...\n",
       "15      000634272d0d44eb  ==Current Position== \\r\\n Anyone have confirma...\n",
       "16      000663aff0fffc80                           this other one from 1897\n",
       "17      000689dd34e20979  == Reason for banning throwing == \\r\\n\\r\\n Thi...\n",
       "18      000834769115370c  :: Wallamoose was changing the cited material ...\n",
       "19      000844b52dee5f3f             |blocked]] from editing Wikipedia.   |\n",
       "20      00084da5d4ead7aa  ==Indefinitely blocked== \\r\\n I have indefinit...\n",
       "21      00091c35fa9d0465  == Arabs are committing genocide in Iraq, but ...\n",
       "22      000968ce11f5ee34  Please stop. If you continue to vandalize Wiki...\n",
       "23      0009734200a85047  == Energy  == \\r\\n\\r\\n I have edited the intro...\n",
       "24      00097b6214686db5  :yeah, thanks for reviving the tradition of pi...\n",
       "25      0009aef4bd9e1697  MLM Software,NBFC software,Non Banking Financi...\n",
       "26      000a02d807ae0254  @RedSlash, cut it short. If you have sources s...\n",
       "27      000a6c6d4e89b9bc  ==================== \\r\\n Deception is the way...\n",
       "28      000bafe2080bba82  . \\r\\n\\r\\n           Jews are not a race becau...\n",
       "29      000bf0a9894b2807  :::If Ollie or others think that one list of t...\n",
       "...                  ...                                                ...\n",
       "153134  fff3ae2e177b6bb3  \" \\r\\n\\r\\n == Same coffee shop? == \\r\\n\\r\\n My...\n",
       "153135  fff4109e837f7acc  SO many things wrong with that viewpoint - fro...\n",
       "153136  fff4373a81ef9f2a  \" \\r\\n\\r\\n Unless we have an article for some ...\n",
       "153137  fff460574ddbcd80  Hannah and Maddie are soooooo awesome and are ...\n",
       "153138  fff4fc0a1555be5c  :::no problem, I tagged it and cleaned it out....\n",
       "153139  fff5b9bb944d634c  :PS I've just looked at the history of this ar...\n",
       "153140  fff5c4a77fe0c05f  \"== Your edit to Maungaturoto == \\r\\n Please d...\n",
       "153141  fff5fb61bd637c82  :If you wish to contest the prod, please remov...\n",
       "153142  fff69311f306df44  Balancing the two approaches to psychiatry ( b...\n",
       "153143  fff6ad63666fb304                                 Ah, suck my balls.\n",
       "153144  fff7159b3ee95618  == Your name mentioned == \\r\\n Hi, I just thou...\n",
       "153145  fff718ffe5f05559  I've just discovered yet another list: List of...\n",
       "153146  fff7fc22a0cdccd3  ==Wikiproject Video Games assessment== \\r\\n I ...\n",
       "153147  fff83b80284d8440  ::Consensus for ruining Wikipedia? I think tha...\n",
       "153148  fff8ef316d0c6990  == DAP ?  == \\r\\n\\r\\n What's point with DAP ?!...\n",
       "153149  fff8f521a7dbcd47  shut down the mexican border withought looking...\n",
       "153150  fff8f64043129fa2  :Jerome, I see you never got around to thisâ€¦...\n",
       "153151  fff9d70fe0722906  ==Lucky bastard== \\r\\n http://wikimediafoundat...\n",
       "153152  fff9fa508f400ee6  ==WTF== \\r\\n It's no longer a redlink.  Now wh...\n",
       "153153  fffa3fae1890b40a  \" \\r\\n\\r\\n ==\"\"Illness\"\" no shit== \\r\\n Just f...\n",
       "153154  fffa8a11c4378854  ==shame on you all!!!== \\r\\n\\r\\n You want to s...\n",
       "153155  fffac2a094c8e0e2  MEL GIBSON IS A NAZI BITCH WHO MAKES SHITTY MO...\n",
       "153156  fffb5451268fb5ba  \" \\r\\n\\r\\n == Unicorn lair discovery == \\r\\n\\r...\n",
       "153157  fffc2b34bbe61c8d  :Disagree. Soviet railways need their own arti...\n",
       "153158  fffc489742ffe69b  This idiot can't even use proper grammar when ...\n",
       "153159  fffcd0960ee309b5  . \\r\\n i totally agree, this stuff is nothing ...\n",
       "153160  fffd7a9a6eb32c16  == Throw from out field to home plate. == \\r\\n...\n",
       "153161  fffda9e8d6fafa9e  \" \\r\\n\\r\\n == Okinotorishima categories == \\r\\...\n",
       "153162  fffe8f1340a79fc2  \" \\r\\n\\r\\n == \"\"One of the founding nations of...\n",
       "153163  ffffce3fb183ee80  \" \\r\\n :::Stop already. Your bullshit is not w...\n",
       "\n",
       "[153164 rows x 2 columns]>"
      ]
     },
     "execution_count": 13,
     "metadata": {},
     "output_type": "execute_result"
    }
   ],
   "source": [
    "test.describe"
   ]
  },
  {
   "cell_type": "code",
   "execution_count": 14,
   "metadata": {},
   "outputs": [
    {
     "data": {
      "text/plain": [
       "id                  0\n",
       "comment_text        0\n",
       "malignant           0\n",
       "highly_malignant    0\n",
       "rude                0\n",
       "threat              0\n",
       "abuse               0\n",
       "loathe              0\n",
       "dtype: int64"
      ]
     },
     "execution_count": 14,
     "metadata": {},
     "output_type": "execute_result"
    }
   ],
   "source": [
    "#Lets check the null values on train and test set \n",
    "train.isnull().sum()"
   ]
  },
  {
   "cell_type": "markdown",
   "metadata": {},
   "source": [
    "There is no null value in train data set"
   ]
  },
  {
   "cell_type": "code",
   "execution_count": 15,
   "metadata": {},
   "outputs": [
    {
     "data": {
      "text/plain": [
       "id              0\n",
       "comment_text    0\n",
       "dtype: int64"
      ]
     },
     "execution_count": 15,
     "metadata": {},
     "output_type": "execute_result"
    }
   ],
   "source": [
    "#Lets check on the test set\n",
    "test.isnull().sum()"
   ]
  },
  {
   "cell_type": "code",
   "execution_count": 16,
   "metadata": {},
   "outputs": [
    {
     "data": {
      "text/plain": [
       "<matplotlib.axes._subplots.AxesSubplot at 0x1dc6afc4208>"
      ]
     },
     "execution_count": 16,
     "metadata": {},
     "output_type": "execute_result"
    },
    {
     "data": {
      "image/png": "[encoded data removed]",
      "text/plain": [
       "<Figure size 432x288 with 2 Axes>"
      ]
     },
     "metadata": {
      "needs_background": "light"
     },
     "output_type": "display_data"
    }
   ],
   "source": [
    "#Lets use heatmap \n",
    "sns.heatmap(train.isnull())"
   ]
  },
  {
   "cell_type": "code",
   "execution_count": 18,
   "metadata": {},
   "outputs": [
    {
     "data": {
      "text/plain": [
       "<bound method DataFrame.corr of                       id                                       comment_text  \\\n",
       "0       0000997932d777bf  Explanation\\r\\nWhy the edits made under my use...   \n",
       "1       000103f0d9cfb60f  D'aww! He matches this background colour I'm s...   \n",
       "2       000113f07ec002fd  Hey man, I'm really not trying to edit war. It...   \n",
       "3       0001b41b1c6bb37e  \"\\r\\nMore\\r\\nI can't make any real suggestions...   \n",
       "4       0001d958c54c6e35  You, sir, are my hero. Any chance you remember...   \n",
       "5       00025465d4725e87  \"\\r\\n\\r\\nCongratulations from me as well, use ...   \n",
       "6       0002bcb3da6cb337       COCKSUCKER BEFORE YOU PISS AROUND ON MY WORK   \n",
       "7       00031b1e95af7921  Your vandalism to the Matt Shirvington article...   \n",
       "8       00037261f536c51d  Sorry if the word 'nonsense' was offensive to ...   \n",
       "9       00040093b2687caa  alignment on this subject and which are contra...   \n",
       "10      0005300084f90edc  \"\\r\\nFair use rationale for Image:Wonju.jpg\\r\\...   \n",
       "11      00054a5e18b50dd4  bbq \\r\\n\\r\\nbe a man and lets discuss it-maybe...   \n",
       "12      0005c987bdfc9d4b  Hey... what is it..\\r\\n@ | talk .\\r\\nWhat is i...   \n",
       "13      0006f16e4e9f292e  Before you start throwing accusations and warn...   \n",
       "14      00070ef96486d6f9  Oh, and the girl above started her arguments w...   \n",
       "15      00078f8ce7eb276d  \"\\r\\n\\r\\nJuelz Santanas Age\\r\\n\\r\\nIn 2002, Ju...   \n",
       "16      0007e25b2121310b  Bye! \\r\\n\\r\\nDon't look, come or think of comm...   \n",
       "17      000897889268bc93   REDIRECT Talk:Voydan Pop Georgiev- Chernodrinski   \n",
       "18      0009801bd85e5806  The Mitsurugi point made no sense - why not ar...   \n",
       "19      0009eaea3325de8c  Don't mean to bother you \\r\\n\\r\\nI see that yo...   \n",
       "20      000b08c464718505  \"\\r\\n\\r\\n Regarding your recent edits \\r\\n\\r\\n...   \n",
       "21      000bfd0867774845  \"\\r\\nGood to know. About me, yeah, I'm studyin...   \n",
       "22      000c0dfd995809fa  \"\\r\\n\\r\\n Snowflakes are NOT always symmetrica...   \n",
       "23      000c6a3f0cd3ba8e  \"\\r\\n\\r\\n The Signpost: 24 September 2012 \\r\\n...   \n",
       "24      000cfee90f50d471  \"\\r\\n\\r\\nRe-considering 1st paragraph edit?\\r\\...   \n",
       "25      000eefc67a2c930f  Radial symmetry \\r\\n\\r\\nSeveral now extinct li...   \n",
       "26      000f35deef84dc4a  There's no need to apologize. A Wikipedia arti...   \n",
       "27      000ffab30195c5e1  Yes, because the mother of the child in the ca...   \n",
       "28      0010307a3a50a353  \"\\r\\nOk. But it will take a bit of work but I ...   \n",
       "29      0010833a96e1f886  \"== A barnstar for you! ==\\r\\n\\r\\n  The Real L...   \n",
       "...                  ...                                                ...   \n",
       "159541  ffa33d3122b599d6  Your absurd edits \\r\\n\\r\\nYour absurd edits on...   \n",
       "159542  ffa95244f261527f  maybe he's got better things to do than spend ...   \n",
       "159543  ffad104337fe9891  scrap that, it does meet criteria and its gone...   \n",
       "159544  ffaed63c487a2b42                                You could do worse.   \n",
       "159545  ffb268f37788a011  , 7 March 2011 (UTC)\\r\\nAre you also User:Bmat...   \n",
       "159546  ffb47123b2d82762  \"\\r\\n\\r\\nHey listen don't you ever!!!! Delete ...   \n",
       "159547  ffb7b4c3d3ae5842                  Thank you very, very much.  Â·âœ†   \n",
       "159548  ffb93b0a0a1e78f9                        Talkback: 15 September 2012   \n",
       "159549  ffb998f9749bd83e                       2005 (UTC)\\r\\n 06:35, 31 Mar   \n",
       "159550  ffba5332d6b8fd14  i agree/ on another note lil wayne is a talent...   \n",
       "159551  ffbc2db4225258dd  While about half the references are from BYU-I...   \n",
       "159552  ffbcd64a71775e04  Prague Spring \\r\\n\\r\\nI think that Prague Spri...   \n",
       "159553  ffbd331a3aa269b9  I see this as having been merged; undoing one ...   \n",
       "159554  ffbdbb0483ed0841  and i'm going to keep posting the stuff u dele...   \n",
       "159555  ffc2f409658571f1  \"\\r\\n\\r\\nHow come when you download that MP3 i...   \n",
       "159556  ffc671f2acdd80e1  I'll be on IRC, too, if you have a more specif...   \n",
       "159557  ffc7bbb177c3c966  It is my opinion that that happens to be off-t...   \n",
       "159558  ffca1e81aefc48ac  Please stop removing content from Wikipedia; i...   \n",
       "159559  ffca8d71d71a3fae  Image:Barack-obama-mother.jpg listed for delet...   \n",
       "159560  ffcdcb71854f6d8a  \"Editing of article without Consensus & Remova...   \n",
       "159561  ffd2e85b07b3c7e4  \"\\r\\nNo he did not, read it again (I would hav...   \n",
       "159562  ffd72e9766c09c97  \"\\r\\n Auto guides and the motoring press are n...   \n",
       "159563  ffe029a7c79dc7fe  \"\\r\\nplease identify what part of BLP applies ...   \n",
       "159564  ffe897e7f7182c90  Catalan independentism is the social movement ...   \n",
       "159565  ffe8b9316245be30  The numbers in parentheses are the additional ...   \n",
       "159566  ffe987279560d7ff  \":::::And for the second time of asking, when ...   \n",
       "159567  ffea4adeee384e90  You should be ashamed of yourself \\r\\n\\r\\nThat...   \n",
       "159568  ffee36eab5c267c9  Spitzer \\r\\n\\r\\nUmm, theres no actual article ...   \n",
       "159569  fff125370e4aaaf3  And it looks like it was actually you who put ...   \n",
       "159570  fff46fc426af1f9a  \"\\r\\nAnd ... I really don't think you understa...   \n",
       "\n",
       "        malignant  highly_malignant  rude  threat  abuse  loathe  \n",
       "0               0                 0     0       0      0       0  \n",
       "1               0                 0     0       0      0       0  \n",
       "2               0                 0     0       0      0       0  \n",
       "3               0                 0     0       0      0       0  \n",
       "4               0                 0     0       0      0       0  \n",
       "5               0                 0     0       0      0       0  \n",
       "6               1                 1     1       0      1       0  \n",
       "7               0                 0     0       0      0       0  \n",
       "8               0                 0     0       0      0       0  \n",
       "9               0                 0     0       0      0       0  \n",
       "10              0                 0     0       0      0       0  \n",
       "11              0                 0     0       0      0       0  \n",
       "12              1                 0     0       0      0       0  \n",
       "13              0                 0     0       0      0       0  \n",
       "14              0                 0     0       0      0       0  \n",
       "15              0                 0     0       0      0       0  \n",
       "16              1                 0     0       0      0       0  \n",
       "17              0                 0     0       0      0       0  \n",
       "18              0                 0     0       0      0       0  \n",
       "19              0                 0     0       0      0       0  \n",
       "20              0                 0     0       0      0       0  \n",
       "21              0                 0     0       0      0       0  \n",
       "22              0                 0     0       0      0       0  \n",
       "23              0                 0     0       0      0       0  \n",
       "24              0                 0     0       0      0       0  \n",
       "25              0                 0     0       0      0       0  \n",
       "26              0                 0     0       0      0       0  \n",
       "27              0                 0     0       0      0       0  \n",
       "28              0                 0     0       0      0       0  \n",
       "29              0                 0     0       0      0       0  \n",
       "...           ...               ...   ...     ...    ...     ...  \n",
       "159541          1                 0     1       0      1       0  \n",
       "159542          0                 0     0       0      0       0  \n",
       "159543          0                 0     0       0      0       0  \n",
       "159544          0                 0     0       0      0       0  \n",
       "159545          0                 0     0       0      0       0  \n",
       "159546          1                 0     0       0      1       0  \n",
       "159547          0                 0     0       0      0       0  \n",
       "159548          0                 0     0       0      0       0  \n",
       "159549          0                 0     0       0      0       0  \n",
       "159550          0                 0     0       0      0       0  \n",
       "159551          0                 0     0       0      0       0  \n",
       "159552          0                 0     0       0      0       0  \n",
       "159553          0                 0     0       0      0       0  \n",
       "159554          1                 0     1       0      1       0  \n",
       "159555          0                 0     0       0      0       0  \n",
       "159556          0                 0     0       0      0       0  \n",
       "159557          0                 0     0       0      0       0  \n",
       "159558          0                 0     0       0      0       0  \n",
       "159559          0                 0     0       0      0       0  \n",
       "159560          0                 0     0       0      0       0  \n",
       "159561          0                 0     0       0      0       0  \n",
       "159562          0                 0     0       0      0       0  \n",
       "159563          0                 0     0       0      0       0  \n",
       "159564          0                 0     0       0      0       0  \n",
       "159565          0                 0     0       0      0       0  \n",
       "159566          0                 0     0       0      0       0  \n",
       "159567          0                 0     0       0      0       0  \n",
       "159568          0                 0     0       0      0       0  \n",
       "159569          0                 0     0       0      0       0  \n",
       "159570          0                 0     0       0      0       0  \n",
       "\n",
       "[159571 rows x 8 columns]>"
      ]
     },
     "execution_count": 18,
     "metadata": {},
     "output_type": "execute_result"
    }
   ],
   "source": [
    "#Lets use correlation coefficient\n",
    "train_cor=train.corr\n",
    "train_cor"
   ]
  },
  {
   "cell_type": "code",
   "execution_count": 19,
   "metadata": {},
   "outputs": [
    {
     "data": {
      "text/plain": [
       "<matplotlib.axes._subplots.AxesSubplot at 0x1dc6b1e0d30>"
      ]
     },
     "execution_count": 19,
     "metadata": {},
     "output_type": "execute_result"
    },
    {
     "data": {
      "image/png": "[encoded data removed]",
      "text/plain": [
       "<Figure size 432x288 with 2 Axes>"
      ]
     },
     "metadata": {
      "needs_background": "light"
     },
     "output_type": "display_data"
    }
   ],
   "source": [
    "#lets use heatmap on correlation\n",
    "sns.heatmap(train.corr())"
   ]
  },
  {
   "cell_type": "code",
   "execution_count": 20,
   "metadata": {},
   "outputs": [
    {
     "data": {
      "text/plain": [
       "<bound method DataFrame.skew of                       id                                       comment_text  \\\n",
       "0       0000997932d777bf  Explanation\\r\\nWhy the edits made under my use...   \n",
       "1       000103f0d9cfb60f  D'aww! He matches this background colour I'm s...   \n",
       "2       000113f07ec002fd  Hey man, I'm really not trying to edit war. It...   \n",
       "3       0001b41b1c6bb37e  \"\\r\\nMore\\r\\nI can't make any real suggestions...   \n",
       "4       0001d958c54c6e35  You, sir, are my hero. Any chance you remember...   \n",
       "5       00025465d4725e87  \"\\r\\n\\r\\nCongratulations from me as well, use ...   \n",
       "6       0002bcb3da6cb337       COCKSUCKER BEFORE YOU PISS AROUND ON MY WORK   \n",
       "7       00031b1e95af7921  Your vandalism to the Matt Shirvington article...   \n",
       "8       00037261f536c51d  Sorry if the word 'nonsense' was offensive to ...   \n",
       "9       00040093b2687caa  alignment on this subject and which are contra...   \n",
       "10      0005300084f90edc  \"\\r\\nFair use rationale for Image:Wonju.jpg\\r\\...   \n",
       "11      00054a5e18b50dd4  bbq \\r\\n\\r\\nbe a man and lets discuss it-maybe...   \n",
       "12      0005c987bdfc9d4b  Hey... what is it..\\r\\n@ | talk .\\r\\nWhat is i...   \n",
       "13      0006f16e4e9f292e  Before you start throwing accusations and warn...   \n",
       "14      00070ef96486d6f9  Oh, and the girl above started her arguments w...   \n",
       "15      00078f8ce7eb276d  \"\\r\\n\\r\\nJuelz Santanas Age\\r\\n\\r\\nIn 2002, Ju...   \n",
       "16      0007e25b2121310b  Bye! \\r\\n\\r\\nDon't look, come or think of comm...   \n",
       "17      000897889268bc93   REDIRECT Talk:Voydan Pop Georgiev- Chernodrinski   \n",
       "18      0009801bd85e5806  The Mitsurugi point made no sense - why not ar...   \n",
       "19      0009eaea3325de8c  Don't mean to bother you \\r\\n\\r\\nI see that yo...   \n",
       "20      000b08c464718505  \"\\r\\n\\r\\n Regarding your recent edits \\r\\n\\r\\n...   \n",
       "21      000bfd0867774845  \"\\r\\nGood to know. About me, yeah, I'm studyin...   \n",
       "22      000c0dfd995809fa  \"\\r\\n\\r\\n Snowflakes are NOT always symmetrica...   \n",
       "23      000c6a3f0cd3ba8e  \"\\r\\n\\r\\n The Signpost: 24 September 2012 \\r\\n...   \n",
       "24      000cfee90f50d471  \"\\r\\n\\r\\nRe-considering 1st paragraph edit?\\r\\...   \n",
       "25      000eefc67a2c930f  Radial symmetry \\r\\n\\r\\nSeveral now extinct li...   \n",
       "26      000f35deef84dc4a  There's no need to apologize. A Wikipedia arti...   \n",
       "27      000ffab30195c5e1  Yes, because the mother of the child in the ca...   \n",
       "28      0010307a3a50a353  \"\\r\\nOk. But it will take a bit of work but I ...   \n",
       "29      0010833a96e1f886  \"== A barnstar for you! ==\\r\\n\\r\\n  The Real L...   \n",
       "...                  ...                                                ...   \n",
       "159541  ffa33d3122b599d6  Your absurd edits \\r\\n\\r\\nYour absurd edits on...   \n",
       "159542  ffa95244f261527f  maybe he's got better things to do than spend ...   \n",
       "159543  ffad104337fe9891  scrap that, it does meet criteria and its gone...   \n",
       "159544  ffaed63c487a2b42                                You could do worse.   \n",
       "159545  ffb268f37788a011  , 7 March 2011 (UTC)\\r\\nAre you also User:Bmat...   \n",
       "159546  ffb47123b2d82762  \"\\r\\n\\r\\nHey listen don't you ever!!!! Delete ...   \n",
       "159547  ffb7b4c3d3ae5842                  Thank you very, very much.  Â·âœ†   \n",
       "159548  ffb93b0a0a1e78f9                        Talkback: 15 September 2012   \n",
       "159549  ffb998f9749bd83e                       2005 (UTC)\\r\\n 06:35, 31 Mar   \n",
       "159550  ffba5332d6b8fd14  i agree/ on another note lil wayne is a talent...   \n",
       "159551  ffbc2db4225258dd  While about half the references are from BYU-I...   \n",
       "159552  ffbcd64a71775e04  Prague Spring \\r\\n\\r\\nI think that Prague Spri...   \n",
       "159553  ffbd331a3aa269b9  I see this as having been merged; undoing one ...   \n",
       "159554  ffbdbb0483ed0841  and i'm going to keep posting the stuff u dele...   \n",
       "159555  ffc2f409658571f1  \"\\r\\n\\r\\nHow come when you download that MP3 i...   \n",
       "159556  ffc671f2acdd80e1  I'll be on IRC, too, if you have a more specif...   \n",
       "159557  ffc7bbb177c3c966  It is my opinion that that happens to be off-t...   \n",
       "159558  ffca1e81aefc48ac  Please stop removing content from Wikipedia; i...   \n",
       "159559  ffca8d71d71a3fae  Image:Barack-obama-mother.jpg listed for delet...   \n",
       "159560  ffcdcb71854f6d8a  \"Editing of article without Consensus & Remova...   \n",
       "159561  ffd2e85b07b3c7e4  \"\\r\\nNo he did not, read it again (I would hav...   \n",
       "159562  ffd72e9766c09c97  \"\\r\\n Auto guides and the motoring press are n...   \n",
       "159563  ffe029a7c79dc7fe  \"\\r\\nplease identify what part of BLP applies ...   \n",
       "159564  ffe897e7f7182c90  Catalan independentism is the social movement ...   \n",
       "159565  ffe8b9316245be30  The numbers in parentheses are the additional ...   \n",
       "159566  ffe987279560d7ff  \":::::And for the second time of asking, when ...   \n",
       "159567  ffea4adeee384e90  You should be ashamed of yourself \\r\\n\\r\\nThat...   \n",
       "159568  ffee36eab5c267c9  Spitzer \\r\\n\\r\\nUmm, theres no actual article ...   \n",
       "159569  fff125370e4aaaf3  And it looks like it was actually you who put ...   \n",
       "159570  fff46fc426af1f9a  \"\\r\\nAnd ... I really don't think you understa...   \n",
       "\n",
       "        malignant  highly_malignant  rude  threat  abuse  loathe  \n",
       "0               0                 0     0       0      0       0  \n",
       "1               0                 0     0       0      0       0  \n",
       "2               0                 0     0       0      0       0  \n",
       "3               0                 0     0       0      0       0  \n",
       "4               0                 0     0       0      0       0  \n",
       "5               0                 0     0       0      0       0  \n",
       "6               1                 1     1       0      1       0  \n",
       "7               0                 0     0       0      0       0  \n",
       "8               0                 0     0       0      0       0  \n",
       "9               0                 0     0       0      0       0  \n",
       "10              0                 0     0       0      0       0  \n",
       "11              0                 0     0       0      0       0  \n",
       "12              1                 0     0       0      0       0  \n",
       "13              0                 0     0       0      0       0  \n",
       "14              0                 0     0       0      0       0  \n",
       "15              0                 0     0       0      0       0  \n",
       "16              1                 0     0       0      0       0  \n",
       "17              0                 0     0       0      0       0  \n",
       "18              0                 0     0       0      0       0  \n",
       "19              0                 0     0       0      0       0  \n",
       "20              0                 0     0       0      0       0  \n",
       "21              0                 0     0       0      0       0  \n",
       "22              0                 0     0       0      0       0  \n",
       "23              0                 0     0       0      0       0  \n",
       "24              0                 0     0       0      0       0  \n",
       "25              0                 0     0       0      0       0  \n",
       "26              0                 0     0       0      0       0  \n",
       "27              0                 0     0       0      0       0  \n",
       "28              0                 0     0       0      0       0  \n",
       "29              0                 0     0       0      0       0  \n",
       "...           ...               ...   ...     ...    ...     ...  \n",
       "159541          1                 0     1       0      1       0  \n",
       "159542          0                 0     0       0      0       0  \n",
       "159543          0                 0     0       0      0       0  \n",
       "159544          0                 0     0       0      0       0  \n",
       "159545          0                 0     0       0      0       0  \n",
       "159546          1                 0     0       0      1       0  \n",
       "159547          0                 0     0       0      0       0  \n",
       "159548          0                 0     0       0      0       0  \n",
       "159549          0                 0     0       0      0       0  \n",
       "159550          0                 0     0       0      0       0  \n",
       "159551          0                 0     0       0      0       0  \n",
       "159552          0                 0     0       0      0       0  \n",
       "159553          0                 0     0       0      0       0  \n",
       "159554          1                 0     1       0      1       0  \n",
       "159555          0                 0     0       0      0       0  \n",
       "159556          0                 0     0       0      0       0  \n",
       "159557          0                 0     0       0      0       0  \n",
       "159558          0                 0     0       0      0       0  \n",
       "159559          0                 0     0       0      0       0  \n",
       "159560          0                 0     0       0      0       0  \n",
       "159561          0                 0     0       0      0       0  \n",
       "159562          0                 0     0       0      0       0  \n",
       "159563          0                 0     0       0      0       0  \n",
       "159564          0                 0     0       0      0       0  \n",
       "159565          0                 0     0       0      0       0  \n",
       "159566          0                 0     0       0      0       0  \n",
       "159567          0                 0     0       0      0       0  \n",
       "159568          0                 0     0       0      0       0  \n",
       "159569          0                 0     0       0      0       0  \n",
       "159570          0                 0     0       0      0       0  \n",
       "\n",
       "[159571 rows x 8 columns]>"
      ]
     },
     "execution_count": 20,
     "metadata": {},
     "output_type": "execute_result"
    }
   ],
   "source": [
    "#lets check the skewness\n",
    "train.skew"
   ]
  },
  {
   "cell_type": "code",
   "execution_count": 21,
   "metadata": {},
   "outputs": [
    {
     "name": "stdout",
     "output_type": "stream",
     "text": [
      "malignant\n",
      "\n",
      "\n",
      "0    144277\n",
      "1     15294\n",
      "Name: malignant, dtype: int64\n"
     ]
    },
    {
     "data": {
      "image/png": "[encoded data removed]",
      "text/plain": [
       "<Figure size 432x288 with 1 Axes>"
      ]
     },
     "metadata": {
      "needs_background": "light"
     },
     "output_type": "display_data"
    },
    {
     "name": "stdout",
     "output_type": "stream",
     "text": [
      "highly_malignant\n",
      "\n",
      "\n",
      "0    157976\n",
      "1      1595\n",
      "Name: highly_malignant, dtype: int64\n"
     ]
    },
    {
     "data": {
      "image/png": "[encoded data removed]",
      "text/plain": [
       "<Figure size 432x288 with 1 Axes>"
      ]
     },
     "metadata": {
      "needs_background": "light"
     },
     "output_type": "display_data"
    },
    {
     "name": "stdout",
     "output_type": "stream",
     "text": [
      "loathe\n",
      "\n",
      "\n",
      "0    158166\n",
      "1      1405\n",
      "Name: loathe, dtype: int64\n"
     ]
    },
    {
     "data": {
      "image/png": "[encoded data removed]",
      "text/plain": [
       "<Figure size 432x288 with 1 Axes>"
      ]
     },
     "metadata": {
      "needs_background": "light"
     },
     "output_type": "display_data"
    },
    {
     "name": "stdout",
     "output_type": "stream",
     "text": [
      "rude\n",
      "\n",
      "\n",
      "0    151122\n",
      "1      8449\n",
      "Name: rude, dtype: int64\n"
     ]
    },
    {
     "data": {
      "image/png": "[encoded data removed]",
      "text/plain": [
       "<Figure size 432x288 with 1 Axes>"
      ]
     },
     "metadata": {
      "needs_background": "light"
     },
     "output_type": "display_data"
    },
    {
     "name": "stdout",
     "output_type": "stream",
     "text": [
      "abuse\n",
      "\n",
      "\n",
      "0    151694\n",
      "1      7877\n",
      "Name: abuse, dtype: int64\n"
     ]
    },
    {
     "data": {
      "image/png": "[encoded data removed]",
      "text/plain": [
       "<Figure size 432x288 with 1 Axes>"
      ]
     },
     "metadata": {
      "needs_background": "light"
     },
     "output_type": "display_data"
    },
    {
     "name": "stdout",
     "output_type": "stream",
     "text": [
      "threat\n",
      "\n",
      "\n",
      "0    159093\n",
      "1       478\n",
      "Name: threat, dtype: int64\n"
     ]
    },
    {
     "data": {
      "image/png": "[encoded data removed]",
      "text/plain": [
       "<Figure size 432x288 with 1 Axes>"
      ]
     },
     "metadata": {
      "needs_background": "light"
     },
     "output_type": "display_data"
    }
   ],
   "source": [
    "#Lets use countplot \n",
    "col=['malignant','highly_malignant','loathe','rude','abuse','threat']\n",
    "for i in col:\n",
    "    print(i)\n",
    "    print(\"\\n\")\n",
    "    print(train[i].value_counts())\n",
    "    sns.countplot(train[i])\n",
    "    plt.show()"
   ]
  },
  {
   "cell_type": "markdown",
   "metadata": {},
   "source": [
    "# Natural LanguageProcessing"
   ]
  },
  {
   "cell_type": "code",
   "execution_count": 22,
   "metadata": {},
   "outputs": [],
   "source": [
    "from nltk.stem import WordNetLemmatizer\n",
    "import nltk\n",
    "from nltk.corpus import  stopwords\n",
    "import string"
   ]
  },
  {
   "cell_type": "code",
   "execution_count": 23,
   "metadata": {},
   "outputs": [
    {
     "data": {
      "text/html": [
       "<div>\n",
       "<style scoped>\n",
       "    .dataframe tbody tr th:only-of-type {\n",
       "        vertical-align: middle;\n",
       "    }\n",
       "\n",
       "    .dataframe tbody tr th {\n",
       "        vertical-align: top;\n",
       "    }\n",
       "\n",
       "    .dataframe thead th {\n",
       "        text-align: right;\n",
       "    }\n",
       "</style>\n",
       "<table border=\"1\" class=\"dataframe\">\n",
       "  <thead>\n",
       "    <tr style=\"text-align: right;\">\n",
       "      <th></th>\n",
       "      <th>id</th>\n",
       "      <th>comment_text</th>\n",
       "      <th>malignant</th>\n",
       "      <th>highly_malignant</th>\n",
       "      <th>rude</th>\n",
       "      <th>threat</th>\n",
       "      <th>abuse</th>\n",
       "      <th>loathe</th>\n",
       "      <th>length</th>\n",
       "    </tr>\n",
       "  </thead>\n",
       "  <tbody>\n",
       "    <tr>\n",
       "      <th>0</th>\n",
       "      <td>0000997932d777bf</td>\n",
       "      <td>Explanation\\r\\nWhy the edits made under my use...</td>\n",
       "      <td>0</td>\n",
       "      <td>0</td>\n",
       "      <td>0</td>\n",
       "      <td>0</td>\n",
       "      <td>0</td>\n",
       "      <td>0</td>\n",
       "      <td>265</td>\n",
       "    </tr>\n",
       "    <tr>\n",
       "      <th>1</th>\n",
       "      <td>000103f0d9cfb60f</td>\n",
       "      <td>D'aww! He matches this background colour I'm s...</td>\n",
       "      <td>0</td>\n",
       "      <td>0</td>\n",
       "      <td>0</td>\n",
       "      <td>0</td>\n",
       "      <td>0</td>\n",
       "      <td>0</td>\n",
       "      <td>112</td>\n",
       "    </tr>\n",
       "    <tr>\n",
       "      <th>2</th>\n",
       "      <td>000113f07ec002fd</td>\n",
       "      <td>Hey man, I'm really not trying to edit war. It...</td>\n",
       "      <td>0</td>\n",
       "      <td>0</td>\n",
       "      <td>0</td>\n",
       "      <td>0</td>\n",
       "      <td>0</td>\n",
       "      <td>0</td>\n",
       "      <td>233</td>\n",
       "    </tr>\n",
       "    <tr>\n",
       "      <th>3</th>\n",
       "      <td>0001b41b1c6bb37e</td>\n",
       "      <td>\"\\r\\nMore\\r\\nI can't make any real suggestions...</td>\n",
       "      <td>0</td>\n",
       "      <td>0</td>\n",
       "      <td>0</td>\n",
       "      <td>0</td>\n",
       "      <td>0</td>\n",
       "      <td>0</td>\n",
       "      <td>626</td>\n",
       "    </tr>\n",
       "    <tr>\n",
       "      <th>4</th>\n",
       "      <td>0001d958c54c6e35</td>\n",
       "      <td>You, sir, are my hero. Any chance you remember...</td>\n",
       "      <td>0</td>\n",
       "      <td>0</td>\n",
       "      <td>0</td>\n",
       "      <td>0</td>\n",
       "      <td>0</td>\n",
       "      <td>0</td>\n",
       "      <td>67</td>\n",
       "    </tr>\n",
       "  </tbody>\n",
       "</table>\n",
       "</div>"
      ],
      "text/plain": [
       "                 id                                       comment_text  \\\n",
       "0  0000997932d777bf  Explanation\\r\\nWhy the edits made under my use...   \n",
       "1  000103f0d9cfb60f  D'aww! He matches this background colour I'm s...   \n",
       "2  000113f07ec002fd  Hey man, I'm really not trying to edit war. It...   \n",
       "3  0001b41b1c6bb37e  \"\\r\\nMore\\r\\nI can't make any real suggestions...   \n",
       "4  0001d958c54c6e35  You, sir, are my hero. Any chance you remember...   \n",
       "\n",
       "   malignant  highly_malignant  rude  threat  abuse  loathe  length  \n",
       "0          0                 0     0       0      0       0     265  \n",
       "1          0                 0     0       0      0       0     112  \n",
       "2          0                 0     0       0      0       0     233  \n",
       "3          0                 0     0       0      0       0     626  \n",
       "4          0                 0     0       0      0       0      67  "
      ]
     },
     "execution_count": 23,
     "metadata": {},
     "output_type": "execute_result"
    }
   ],
   "source": [
    "train['length'] = train['comment_text'].str.len()\n",
    "train.head()"
   ]
  },
  {
   "cell_type": "code",
   "execution_count": 24,
   "metadata": {},
   "outputs": [],
   "source": [
    "# Convert all messages to lower case\n",
    "train['comment_text'] = train['comment_text'].str.lower()"
   ]
  },
  {
   "cell_type": "code",
   "execution_count": 25,
   "metadata": {},
   "outputs": [],
   "source": [
    "# Replace email addresses with 'email'\n",
    "train['comment_text'] = train['comment_text'].str.replace(r'^.+@[^\\.].*\\.[a-z]{2,}$','emailaddress')"
   ]
  },
  {
   "cell_type": "code",
   "execution_count": 26,
   "metadata": {},
   "outputs": [],
   "source": [
    "# Replace URLs with 'webaddress'\n",
    "train['comment_text'] = train['comment_text'].str.replace(r'^http\\://[a-zA-Z0-9\\-\\.]+\\.[a-zA-Z]{2,3}(/\\S*)?$','webaddress')"
   ]
  },
  {
   "cell_type": "code",
   "execution_count": 27,
   "metadata": {},
   "outputs": [],
   "source": [
    "# Replace money symbols with 'moneysymb' (£ can by typed with ALT key + 156)\n",
    "train['comment_text'] = train['comment_text'].str.replace(r'£|\\$', 'dollers')"
   ]
  },
  {
   "cell_type": "code",
   "execution_count": 28,
   "metadata": {},
   "outputs": [],
   "source": [
    "# Replace 10 digit phone numbers (formats include paranthesis, spaces, no spaces, dashes) with 'phonenumber'\n",
    "train['comment_text'] = train['comment_text'].str.replace(r'^\\(?[\\d]{3}\\)?[\\s-]?[\\d]{3}[\\s-]?[\\d]{4}$','phonenumber')"
   ]
  },
  {
   "cell_type": "code",
   "execution_count": 29,
   "metadata": {},
   "outputs": [],
   "source": [
    "train['comment_text'] = train['comment_text'].apply(lambda x: ' '.join(\n",
    "    term for term in x.split() if term not in string.punctuation))"
   ]
  },
  {
   "cell_type": "code",
   "execution_count": 30,
   "metadata": {},
   "outputs": [],
   "source": [
    "stop_words = set(stopwords.words('english') + ['u', 'ü', 'ur', '4', '2', 'im', 'dont', 'doin', 'ure'])\n",
    "train['comment_text'] = train['comment_text'].apply(lambda x: ' '.join(\n",
    "    term for term in x.split() if term not in stop_words))"
   ]
  },
  {
   "cell_type": "code",
   "execution_count": 31,
   "metadata": {},
   "outputs": [
    {
     "name": "stderr",
     "output_type": "stream",
     "text": [
      "[nltk_data] Downloading package wordnet to C:\\Users\\my\n",
      "[nltk_data]     pc\\AppData\\Roaming\\nltk_data...\n",
      "[nltk_data]   Package wordnet is already up-to-date!\n"
     ]
    }
   ],
   "source": [
    "import nltk\n",
    "nltk.download('wordnet')\n",
    "lem=WordNetLemmatizer()\n",
    "train['comment_text'] = train['comment_text'].apply(lambda x: ' '.join(\n",
    "lem.lemmatize(t) for t in x.split()))"
   ]
  },
  {
   "cell_type": "code",
   "execution_count": 33,
   "metadata": {},
   "outputs": [
    {
     "data": {
      "text/html": [
       "<div>\n",
       "<style scoped>\n",
       "    .dataframe tbody tr th:only-of-type {\n",
       "        vertical-align: middle;\n",
       "    }\n",
       "\n",
       "    .dataframe tbody tr th {\n",
       "        vertical-align: top;\n",
       "    }\n",
       "\n",
       "    .dataframe thead th {\n",
       "        text-align: right;\n",
       "    }\n",
       "</style>\n",
       "<table border=\"1\" class=\"dataframe\">\n",
       "  <thead>\n",
       "    <tr style=\"text-align: right;\">\n",
       "      <th></th>\n",
       "      <th>id</th>\n",
       "      <th>comment_text</th>\n",
       "      <th>malignant</th>\n",
       "      <th>highly_malignant</th>\n",
       "      <th>rude</th>\n",
       "      <th>threat</th>\n",
       "      <th>abuse</th>\n",
       "      <th>loathe</th>\n",
       "      <th>length</th>\n",
       "      <th>clean_length</th>\n",
       "    </tr>\n",
       "  </thead>\n",
       "  <tbody>\n",
       "    <tr>\n",
       "      <th>0</th>\n",
       "      <td>0000997932d777bf</td>\n",
       "      <td>explanation edits made username hardcore metal...</td>\n",
       "      <td>0</td>\n",
       "      <td>0</td>\n",
       "      <td>0</td>\n",
       "      <td>0</td>\n",
       "      <td>0</td>\n",
       "      <td>0</td>\n",
       "      <td>265</td>\n",
       "      <td>181</td>\n",
       "    </tr>\n",
       "    <tr>\n",
       "      <th>1</th>\n",
       "      <td>000103f0d9cfb60f</td>\n",
       "      <td>d'aww! match background colour i'm seemingly s...</td>\n",
       "      <td>0</td>\n",
       "      <td>0</td>\n",
       "      <td>0</td>\n",
       "      <td>0</td>\n",
       "      <td>0</td>\n",
       "      <td>0</td>\n",
       "      <td>112</td>\n",
       "      <td>101</td>\n",
       "    </tr>\n",
       "    <tr>\n",
       "      <th>2</th>\n",
       "      <td>000113f07ec002fd</td>\n",
       "      <td>hey man, i'm really trying edit war. guy const...</td>\n",
       "      <td>0</td>\n",
       "      <td>0</td>\n",
       "      <td>0</td>\n",
       "      <td>0</td>\n",
       "      <td>0</td>\n",
       "      <td>0</td>\n",
       "      <td>233</td>\n",
       "      <td>149</td>\n",
       "    </tr>\n",
       "    <tr>\n",
       "      <th>3</th>\n",
       "      <td>0001b41b1c6bb37e</td>\n",
       "      <td>can't make real suggestion improvement wondere...</td>\n",
       "      <td>0</td>\n",
       "      <td>0</td>\n",
       "      <td>0</td>\n",
       "      <td>0</td>\n",
       "      <td>0</td>\n",
       "      <td>0</td>\n",
       "      <td>626</td>\n",
       "      <td>397</td>\n",
       "    </tr>\n",
       "    <tr>\n",
       "      <th>4</th>\n",
       "      <td>0001d958c54c6e35</td>\n",
       "      <td>you, sir, hero. chance remember page that's on?</td>\n",
       "      <td>0</td>\n",
       "      <td>0</td>\n",
       "      <td>0</td>\n",
       "      <td>0</td>\n",
       "      <td>0</td>\n",
       "      <td>0</td>\n",
       "      <td>67</td>\n",
       "      <td>47</td>\n",
       "    </tr>\n",
       "  </tbody>\n",
       "</table>\n",
       "</div>"
      ],
      "text/plain": [
       "                 id                                       comment_text  \\\n",
       "0  0000997932d777bf  explanation edits made username hardcore metal...   \n",
       "1  000103f0d9cfb60f  d'aww! match background colour i'm seemingly s...   \n",
       "2  000113f07ec002fd  hey man, i'm really trying edit war. guy const...   \n",
       "3  0001b41b1c6bb37e  can't make real suggestion improvement wondere...   \n",
       "4  0001d958c54c6e35    you, sir, hero. chance remember page that's on?   \n",
       "\n",
       "   malignant  highly_malignant  rude  threat  abuse  loathe  length  \\\n",
       "0          0                 0     0       0      0       0     265   \n",
       "1          0                 0     0       0      0       0     112   \n",
       "2          0                 0     0       0      0       0     233   \n",
       "3          0                 0     0       0      0       0     626   \n",
       "4          0                 0     0       0      0       0      67   \n",
       "\n",
       "   clean_length  \n",
       "0           181  \n",
       "1           101  \n",
       "2           149  \n",
       "3           397  \n",
       "4            47  "
      ]
     },
     "execution_count": 33,
     "metadata": {},
     "output_type": "execute_result"
    }
   ],
   "source": [
    "train['clean_length'] = train.comment_text.str.len()\n",
    "train.head()"
   ]
  },
  {
   "cell_type": "code",
   "execution_count": 34,
   "metadata": {},
   "outputs": [
    {
     "name": "stdout",
     "output_type": "stream",
     "text": [
      "Origian Length 63397311\n",
      "Clean Length 43269436\n"
     ]
    }
   ],
   "source": [
    "# Total length removal\n",
    "print ('Origian Length', train.length.sum())\n",
    "print ('Clean Length', train.clean_length.sum())"
   ]
  },
  {
   "cell_type": "code",
   "execution_count": 35,
   "metadata": {},
   "outputs": [],
   "source": [
    "cols_target = ['malignant','highly_malignant','rude','threat','abuse','loathe']\n",
    "df_distribution = train[cols_target].sum()\\\n",
    "                            .to_frame()\\\n",
    "                            .rename(columns={0: 'count'})\\\n",
    "                            .sort_values('count')"
   ]
  },
  {
   "cell_type": "code",
   "execution_count": 36,
   "metadata": {},
   "outputs": [
    {
     "data": {
      "text/plain": [
       "<matplotlib.legend.Legend at 0x1dc06199c18>"
      ]
     },
     "execution_count": 36,
     "metadata": {},
     "output_type": "execute_result"
    },
    {
     "data": {
      "image/png": "[encoded data removed]",
      "text/plain": [
       "<Figure size 360x360 with 1 Axes>"
      ]
     },
     "metadata": {},
     "output_type": "display_data"
    }
   ],
   "source": [
    "df_distribution.plot.pie(y='count',title='Label distribution over comments',\n",
    "                                      figsize=(5, 5))\\\n",
    "                            .legend(loc='center left', bbox_to_anchor=(1.3, 0.5))"
   ]
  },
  {
   "cell_type": "code",
   "execution_count": 37,
   "metadata": {},
   "outputs": [
    {
     "name": "stdout",
     "output_type": "stream",
     "text": [
      "0    143346\n",
      "1      6360\n",
      "3      4209\n",
      "2      3480\n",
      "4      1760\n",
      "5       385\n",
      "6        31\n",
      "Name: bad, dtype: int64\n",
      "0    143346\n",
      "1     16225\n",
      "Name: bad, dtype: int64\n"
     ]
    }
   ],
   "source": [
    "target_data = train[cols_target]\n",
    "\n",
    "train['bad'] =train[cols_target].sum(axis =1)\n",
    "print(train['bad'].value_counts())\n",
    "train['bad'] = train['bad'] > 0 \n",
    "train['bad'] = train['bad'].astype(int)\n",
    "print(train['bad'].value_counts())"
   ]
  },
  {
   "cell_type": "code",
   "execution_count": 38,
   "metadata": {},
   "outputs": [
    {
     "data": {
      "image/png": "[encoded data removed]",
      "text/plain": [
       "<Figure size 432x288 with 1 Axes>"
      ]
     },
     "metadata": {},
     "output_type": "display_data"
    }
   ],
   "source": [
    "sns.set()\n",
    "sns.countplot(x=\"bad\" , data = train)\n",
    "plt.show()"
   ]
  },
  {
   "cell_type": "code",
   "execution_count": 39,
   "metadata": {},
   "outputs": [],
   "source": [
    "#  Convert text into vectors using TF-IDF\n",
    "from sklearn.feature_extraction.text import TfidfVectorizer\n",
    "tf_vec = TfidfVectorizer(max_features = 10000, stop_words='english')\n",
    "features = tf_vec.fit_transform(train['comment_text'])\n",
    "x = features"
   ]
  },
  {
   "cell_type": "code",
   "execution_count": 40,
   "metadata": {},
   "outputs": [
    {
     "data": {
      "text/plain": [
       "(159571, 11)"
      ]
     },
     "execution_count": 40,
     "metadata": {},
     "output_type": "execute_result"
    }
   ],
   "source": [
    "train.shape"
   ]
  },
  {
   "cell_type": "code",
   "execution_count": 41,
   "metadata": {},
   "outputs": [
    {
     "data": {
      "text/plain": [
       "(153164, 2)"
      ]
     },
     "execution_count": 41,
     "metadata": {},
     "output_type": "execute_result"
    }
   ],
   "source": [
    "test.shape"
   ]
  },
  {
   "cell_type": "code",
   "execution_count": 42,
   "metadata": {},
   "outputs": [],
   "source": [
    "y=train['bad']\n",
    "X_train,X_test,y_train,y_test=train_test_split(x,y,random_state=56,test_size=.30)"
   ]
  },
  {
   "cell_type": "code",
   "execution_count": 43,
   "metadata": {},
   "outputs": [
    {
     "data": {
      "text/plain": [
       "((111699,), (47872,))"
      ]
     },
     "execution_count": 43,
     "metadata": {},
     "output_type": "execute_result"
    }
   ],
   "source": [
    "y_train.shape,y_test.shape"
   ]
  },
  {
   "cell_type": "markdown",
   "metadata": {},
   "source": [
    "# Model Evaluation"
   ]
  },
  {
   "cell_type": "markdown",
   "metadata": {},
   "source": [
    "# Logistic Regression"
   ]
  },
  {
   "cell_type": "code",
   "execution_count": 44,
   "metadata": {},
   "outputs": [
    {
     "data": {
      "text/plain": [
       "LogisticRegression(C=1, class_weight=None, dual=False, fit_intercept=True,\n",
       "          intercept_scaling=1, max_iter=3000, multi_class='warn',\n",
       "          n_jobs=None, penalty='l2', random_state=None, solver='warn',\n",
       "          tol=0.0001, verbose=0, warm_start=False)"
      ]
     },
     "execution_count": 44,
     "metadata": {},
     "output_type": "execute_result"
    }
   ],
   "source": [
    "# LogisticRegression\n",
    "from sklearn.linear_model import LogisticRegression\n",
    "LG = LogisticRegression(C=1, max_iter = 3000)\n",
    "LG.fit(X_train, y_train)"
   ]
  },
  {
   "cell_type": "code",
   "execution_count": 45,
   "metadata": {},
   "outputs": [
    {
     "name": "stdout",
     "output_type": "stream",
     "text": [
      "Training accuracy is 0.9592744787330235\n",
      "Test accuracy is 0.955276570855615\n",
      "[[42734   216]\n",
      " [ 1925  2997]]\n",
      "              precision    recall  f1-score   support\n",
      "\n",
      "           0       0.96      0.99      0.98     42950\n",
      "           1       0.93      0.61      0.74      4922\n",
      "\n",
      "   micro avg       0.96      0.96      0.96     47872\n",
      "   macro avg       0.94      0.80      0.86     47872\n",
      "weighted avg       0.95      0.96      0.95     47872\n",
      "\n"
     ]
    }
   ],
   "source": [
    "y_pred_train = LG.predict(X_train)\n",
    "print('Training accuracy is {}'.format(accuracy_score(y_train, y_pred_train)))\n",
    "y_pred_test = LG.predict(X_test)\n",
    "print('Test accuracy is {}'.format(accuracy_score(y_test,y_pred_test)))\n",
    "print(confusion_matrix(y_test,y_pred_test))\n",
    "print(classification_report(y_test,y_pred_test))"
   ]
  },
  {
   "cell_type": "markdown",
   "metadata": {},
   "source": [
    "# Decision Tree"
   ]
  },
  {
   "cell_type": "code",
   "execution_count": 46,
   "metadata": {},
   "outputs": [
    {
     "data": {
      "text/plain": [
       "DecisionTreeClassifier(class_weight=None, criterion='gini', max_depth=None,\n",
       "            max_features=None, max_leaf_nodes=None,\n",
       "            min_impurity_decrease=0.0, min_impurity_split=None,\n",
       "            min_samples_leaf=1, min_samples_split=2,\n",
       "            min_weight_fraction_leaf=0.0, presort=False, random_state=None,\n",
       "            splitter='best')"
      ]
     },
     "execution_count": 46,
     "metadata": {},
     "output_type": "execute_result"
    }
   ],
   "source": [
    "# DecisionTreeClassifier\n",
    "DT = DecisionTreeClassifier()\n",
    "DT.fit(X_train, y_train)"
   ]
  },
  {
   "cell_type": "code",
   "execution_count": 47,
   "metadata": {},
   "outputs": [
    {
     "name": "stdout",
     "output_type": "stream",
     "text": [
      "Training accuracy is 0.9989346368364981\n",
      "Test accuracy is 0.9397769050802139\n",
      "[[41623  1327]\n",
      " [ 1556  3366]]\n",
      "              precision    recall  f1-score   support\n",
      "\n",
      "           0       0.96      0.97      0.97     42950\n",
      "           1       0.72      0.68      0.70      4922\n",
      "\n",
      "   micro avg       0.94      0.94      0.94     47872\n",
      "   macro avg       0.84      0.83      0.83     47872\n",
      "weighted avg       0.94      0.94      0.94     47872\n",
      "\n"
     ]
    }
   ],
   "source": [
    "y_pred_train = DT.predict(X_train)\n",
    "print('Training accuracy is {}'.format(accuracy_score(y_train, y_pred_train)))\n",
    "y_pred_test = DT.predict(X_test)\n",
    "print('Test accuracy is {}'.format(accuracy_score(y_test,y_pred_test)))\n",
    "print(confusion_matrix(y_test,y_pred_test))\n",
    "print(classification_report(y_test,y_pred_test))"
   ]
  },
  {
   "cell_type": "markdown",
   "metadata": {},
   "source": [
    "# Random Forest classifier"
   ]
  },
  {
   "cell_type": "code",
   "execution_count": 49,
   "metadata": {},
   "outputs": [
    {
     "data": {
      "text/plain": [
       "RandomForestClassifier(bootstrap=True, class_weight=None, criterion='gini',\n",
       "            max_depth=None, max_features='auto', max_leaf_nodes=None,\n",
       "            min_impurity_decrease=0.0, min_impurity_split=None,\n",
       "            min_samples_leaf=1, min_samples_split=2,\n",
       "            min_weight_fraction_leaf=0.0, n_estimators=10, n_jobs=None,\n",
       "            oob_score=False, random_state=None, verbose=0,\n",
       "            warm_start=False)"
      ]
     },
     "execution_count": 49,
     "metadata": {},
     "output_type": "execute_result"
    }
   ],
   "source": [
    "#RandomForestClassifier\n",
    "from sklearn.ensemble import RandomForestClassifier\n",
    "RF = RandomForestClassifier()\n",
    "RF.fit(X_train, y_train)"
   ]
  },
  {
   "cell_type": "code",
   "execution_count": 50,
   "metadata": {},
   "outputs": [
    {
     "name": "stdout",
     "output_type": "stream",
     "text": [
      "Training accuracy is 0.9938853525993966\n",
      "Test accuracy is 0.9515374331550802\n",
      "[[42429   521]\n",
      " [ 1799  3123]]\n",
      "              precision    recall  f1-score   support\n",
      "\n",
      "           0       0.96      0.99      0.97     42950\n",
      "           1       0.86      0.63      0.73      4922\n",
      "\n",
      "   micro avg       0.95      0.95      0.95     47872\n",
      "   macro avg       0.91      0.81      0.85     47872\n",
      "weighted avg       0.95      0.95      0.95     47872\n",
      "\n"
     ]
    }
   ],
   "source": [
    "y_pred_train = RF.predict(X_train)\n",
    "print('Training accuracy is {}'.format(accuracy_score(y_train, y_pred_train)))\n",
    "y_pred_test = RF.predict(X_test)\n",
    "print('Test accuracy is {}'.format(accuracy_score(y_test,y_pred_test)))\n",
    "print(confusion_matrix(y_test,y_pred_test))\n",
    "print(classification_report(y_test,y_pred_test))"
   ]
  },
  {
   "cell_type": "code",
   "execution_count": 51,
   "metadata": {},
   "outputs": [
    {
     "data": {
      "text/plain": [
       "KNeighborsClassifier(algorithm='auto', leaf_size=30, metric='minkowski',\n",
       "           metric_params=None, n_jobs=None, n_neighbors=9, p=2,\n",
       "           weights='uniform')"
      ]
     },
     "execution_count": 51,
     "metadata": {},
     "output_type": "execute_result"
    }
   ],
   "source": [
    "#KNeighborsClassifier\n",
    "knn=KNeighborsClassifier(n_neighbors=9)\n",
    "knn.fit(X_train, y_train)"
   ]
  },
  {
   "cell_type": "code",
   "execution_count": 52,
   "metadata": {},
   "outputs": [
    {
     "name": "stdout",
     "output_type": "stream",
     "text": [
      "Training accuracy is 0.9208945469520765\n",
      "Test accuracy is 0.9164020721925134\n",
      "[[42824   126]\n",
      " [ 3876  1046]]\n",
      "              precision    recall  f1-score   support\n",
      "\n",
      "           0       0.92      1.00      0.96     42950\n",
      "           1       0.89      0.21      0.34      4922\n",
      "\n",
      "   micro avg       0.92      0.92      0.92     47872\n",
      "   macro avg       0.90      0.60      0.65     47872\n",
      "weighted avg       0.91      0.92      0.89     47872\n",
      "\n"
     ]
    }
   ],
   "source": [
    "y_pred_train = knn.predict(X_train)\n",
    "print('Training accuracy is {}'.format(accuracy_score(y_train, y_pred_train)))\n",
    "y_pred_test = knn.predict(X_test)\n",
    "print('Test accuracy is {}'.format(accuracy_score(y_test,y_pred_test)))\n",
    "print(confusion_matrix(y_test,y_pred_test))\n",
    "print(classification_report(y_test,y_pred_test))"
   ]
  },
  {
   "cell_type": "code",
   "execution_count": null,
   "metadata": {},
   "outputs": [],
   "source": []
  }
 ],
 "metadata": {
  "kernelspec": {
   "display_name": "Python 3",
   "language": "python",
   "name": "python3"
  },
  "language_info": {
   "codemirror_mode": {
    "name": "ipython",
    "version": 3
   },
   "file_extension": ".py",
   "mimetype": "text/x-python",
   "name": "python",
   "nbconvert_exporter": "python",
   "pygments_lexer": "ipython3",
   "version": "3.7.3"
  }
 },
 "nbformat": 4,
 "nbformat_minor": 2
}
